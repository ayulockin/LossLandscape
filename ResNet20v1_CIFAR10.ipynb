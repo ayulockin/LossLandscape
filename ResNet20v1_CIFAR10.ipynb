{
  "nbformat": 4,
  "nbformat_minor": 0,
  "metadata": {
    "colab": {
      "name": "scratchpad",
      "provenance": [],
      "include_colab_link": true
    },
    "kernelspec": {
      "display_name": "Python 3",
      "name": "python3"
    },
    "accelerator": "GPU"
  },
  "cells": [
    {
      "cell_type": "markdown",
      "metadata": {
        "id": "view-in-github",
        "colab_type": "text"
      },
      "source": [
        "<a href=\"https://colab.research.google.com/github/ayulockin/LossLandscape/blob/master/ResNet20v1_CIFAR10.ipynb\" target=\"_parent\"><img src=\"https://colab.research.google.com/assets/colab-badge.svg\" alt=\"Open In Colab\"/></a>"
      ]
    },
    {
      "cell_type": "code",
      "metadata": {
        "colab_type": "code",
        "id": "lIYdn1woOS1n",
        "colab": {
          "base_uri": "https://localhost:8080/",
          "height": 34
        },
        "outputId": "d2b9178c-6276-4a47-8035-ea5801c4394c"
      },
      "source": [
        "# TensorFlow Imports\n",
        "import tensorflow as tf\n",
        "print(tf.__version__)"
      ],
      "execution_count": 1,
      "outputs": [
        {
          "output_type": "stream",
          "text": [
            "2.2.0\n"
          ],
          "name": "stdout"
        }
      ]
    },
    {
      "cell_type": "code",
      "metadata": {
        "id": "8Z8L9GgmRFd_",
        "colab_type": "code",
        "colab": {
          "base_uri": "https://localhost:8080/",
          "height": 357
        },
        "outputId": "413dc413-4a35-4162-9787-30d64d4aaa5e"
      },
      "source": [
        "# Which GPU?\n",
        "!nvidia-smi"
      ],
      "execution_count": 2,
      "outputs": [
        {
          "output_type": "stream",
          "text": [
            "Tue Jul 14 08:00:00 2020       \n",
            "+-----------------------------------------------------------------------------+\n",
            "| NVIDIA-SMI 450.51.05    Driver Version: 418.67       CUDA Version: 10.1     |\n",
            "|-------------------------------+----------------------+----------------------+\n",
            "| GPU  Name        Persistence-M| Bus-Id        Disp.A | Volatile Uncorr. ECC |\n",
            "| Fan  Temp  Perf  Pwr:Usage/Cap|         Memory-Usage | GPU-Util  Compute M. |\n",
            "|                               |                      |               MIG M. |\n",
            "|===============================+======================+======================|\n",
            "|   0  Tesla K80           Off  | 00000000:00:04.0 Off |                    0 |\n",
            "| N/A   36C    P8    27W / 149W |      0MiB / 11441MiB |      0%      Default |\n",
            "|                               |                      |                 ERR! |\n",
            "+-------------------------------+----------------------+----------------------+\n",
            "                                                                               \n",
            "+-----------------------------------------------------------------------------+\n",
            "| Processes:                                                                  |\n",
            "|  GPU   GI   CI        PID   Type   Process name                  GPU Memory |\n",
            "|        ID   ID                                                   Usage      |\n",
            "|=============================================================================|\n",
            "|  No running processes found                                                 |\n",
            "+-----------------------------------------------------------------------------+\n"
          ],
          "name": "stdout"
        }
      ]
    },
    {
      "cell_type": "code",
      "metadata": {
        "id": "5-_4ROoYRHJq",
        "colab_type": "code",
        "colab": {
          "base_uri": "https://localhost:8080/",
          "height": 204
        },
        "outputId": "0d8036ef-56cd-4d0d-f527-a50d46d0312b"
      },
      "source": [
        "!wget https://raw.githubusercontent.com/GoogleCloudPlatform/keras-idiomatic-programmer/master/zoo/resnet/resnet_cifar10.py"
      ],
      "execution_count": 3,
      "outputs": [
        {
          "output_type": "stream",
          "text": [
            "--2020-07-14 08:00:05--  https://raw.githubusercontent.com/GoogleCloudPlatform/keras-idiomatic-programmer/master/zoo/resnet/resnet_cifar10.py\n",
            "Resolving raw.githubusercontent.com (raw.githubusercontent.com)... 151.101.0.133, 151.101.64.133, 151.101.128.133, ...\n",
            "Connecting to raw.githubusercontent.com (raw.githubusercontent.com)|151.101.0.133|:443... connected.\n",
            "HTTP request sent, awaiting response... 200 OK\n",
            "Length: 6064 (5.9K) [text/plain]\n",
            "Saving to: ‘resnet_cifar10.py’\n",
            "\n",
            "\rresnet_cifar10.py     0%[                    ]       0  --.-KB/s               \rresnet_cifar10.py   100%[===================>]   5.92K  --.-KB/s    in 0s      \n",
            "\n",
            "2020-07-14 08:00:05 (53.1 MB/s) - ‘resnet_cifar10.py’ saved [6064/6064]\n",
            "\n"
          ],
          "name": "stdout"
        }
      ]
    },
    {
      "cell_type": "code",
      "metadata": {
        "id": "txX7OoEpROgI",
        "colab_type": "code",
        "colab": {}
      },
      "source": [
        "# Other imports\n",
        "from tensorflow.keras.layers import *\n",
        "from tensorflow.keras.models import *\n",
        "import matplotlib.pyplot as plt\n",
        "import tensorflow as tf\n",
        "import resnet_cifar10\n",
        "import numpy as np\n",
        "import time\n",
        "\n",
        "# Random seed fixation\n",
        "tf.random.set_seed(666)\n",
        "np.random.seed(666)"
      ],
      "execution_count": 4,
      "outputs": []
    },
    {
      "cell_type": "code",
      "metadata": {
        "id": "1NlIHQ-rRWlX",
        "colab_type": "code",
        "colab": {}
      },
      "source": [
        "def get_training_model():\n",
        "    # ResNet20\n",
        "    n = 2\n",
        "    depth =  n * 9 + 2\n",
        "    n_blocks = ((depth - 2) // 9) - 1\n",
        "\n",
        "    # The input tensor\n",
        "    inputs = Input(shape=(32, 32, 3))\n",
        "\n",
        "    # The Stem Convolution Group\n",
        "    x = resnet_cifar10.stem(inputs)\n",
        "\n",
        "    # The learner\n",
        "    x = resnet_cifar10.learner(x, n_blocks)\n",
        "\n",
        "    # The Classifier for 10 classes\n",
        "    outputs = resnet_cifar10.classifier(x, 10)\n",
        "\n",
        "    # Instantiate the Model\n",
        "    model = Model(inputs, outputs)\n",
        "    \n",
        "    return model"
      ],
      "execution_count": 5,
      "outputs": []
    },
    {
      "cell_type": "code",
      "metadata": {
        "id": "Sjq25fUmRY4e",
        "colab_type": "code",
        "colab": {}
      },
      "source": [
        "def plot_training(H):\n",
        "\t# construct a plot that plots and saves the training history\n",
        "\twith plt.xkcd():\n",
        "\t\tplt.figure()\n",
        "\t\tplt.plot(H.history[\"loss\"], label=\"train_loss\")\n",
        "\t\tplt.plot(H.history[\"val_loss\"], label=\"val_loss\")\n",
        "\t\tplt.plot(H.history[\"accuracy\"], label=\"train_acc\")\n",
        "\t\tplt.plot(H.history[\"val_accuracy\"], label=\"val_acc\")\n",
        "\t\tplt.title(\"Training Loss and Accuracy\")\n",
        "\t\tplt.xlabel(\"Epoch #\")\n",
        "\t\tplt.ylabel(\"Loss/Accuracy\")\n",
        "\t\tplt.legend(loc=\"lower left\")\n",
        "\t\tplt.show()"
      ],
      "execution_count": 6,
      "outputs": []
    },
    {
      "cell_type": "code",
      "metadata": {
        "id": "Jp-VUHKiRqo4",
        "colab_type": "code",
        "colab": {
          "base_uri": "https://localhost:8080/",
          "height": 51
        },
        "outputId": "30ef4df5-ca45-4b9c-babe-70eb087c9242"
      },
      "source": [
        "# Load the training set of CIFAR10\n",
        "(x_train, y_train), (x_test, y_test) = tf.keras.datasets.cifar10.load_data()"
      ],
      "execution_count": 7,
      "outputs": [
        {
          "output_type": "stream",
          "text": [
            "Downloading data from https://www.cs.toronto.edu/~kriz/cifar-10-python.tar.gz\n",
            "170500096/170498071 [==============================] - 6s 0us/step\n"
          ],
          "name": "stdout"
        }
      ]
    },
    {
      "cell_type": "code",
      "metadata": {
        "id": "dNhaSmKjR2Vq",
        "colab_type": "code",
        "colab": {}
      },
      "source": [
        "BATCH_SIZE = 128\n",
        "\n",
        "def normalize(image, label):\n",
        "    return tf.image.convert_image_dtype(image, tf.float32), label\n",
        "\n",
        "train_ds = tf.data.Dataset.from_tensor_slices((x_train, y_train))\n",
        "train_ds = (\n",
        "    train_ds\n",
        "    .shuffle(1024)\n",
        "    .map(normalize, num_parallel_calls=tf.data.experimental.AUTOTUNE)\n",
        "    .batch(BATCH_SIZE)\n",
        "    .prefetch(tf.data.experimental.AUTOTUNE)\n",
        ")\n",
        "\n",
        "test_ds = tf.data.Dataset.from_tensor_slices((x_test, y_test))\n",
        "test_ds = (\n",
        "    test_ds\n",
        "    .map(normalize, num_parallel_calls=tf.data.experimental.AUTOTUNE)\n",
        "    .batch(BATCH_SIZE)\n",
        "    .prefetch(tf.data.experimental.AUTOTUNE)\n",
        ")"
      ],
      "execution_count": 8,
      "outputs": []
    },
    {
      "cell_type": "code",
      "metadata": {
        "id": "Ymnw4EirV8HT",
        "colab_type": "code",
        "colab": {
          "base_uri": "https://localhost:8080/",
          "height": 1000
        },
        "outputId": "2c61510a-f24e-4ae1-c4d9-9666be1ac888"
      },
      "source": [
        "model = get_training_model()\n",
        "model.summary()"
      ],
      "execution_count": 9,
      "outputs": [
        {
          "output_type": "stream",
          "text": [
            "Model: \"model_1\"\n",
            "__________________________________________________________________________________________________\n",
            "Layer (type)                    Output Shape         Param #     Connected to                     \n",
            "==================================================================================================\n",
            "input_2 (InputLayer)            [(None, 32, 32, 3)]  0                                            \n",
            "__________________________________________________________________________________________________\n",
            "conv2d_166 (Conv2D)             (None, 32, 32, 16)   448         input_2[0][0]                    \n",
            "__________________________________________________________________________________________________\n",
            "batch_normalization_164 (BatchN (None, 32, 32, 16)   64          conv2d_166[0][0]                 \n",
            "__________________________________________________________________________________________________\n",
            "re_lu_164 (ReLU)                (None, 32, 32, 16)   0           batch_normalization_164[0][0]    \n",
            "__________________________________________________________________________________________________\n",
            "conv2d_168 (Conv2D)             (None, 32, 32, 16)   272         re_lu_164[0][0]                  \n",
            "__________________________________________________________________________________________________\n",
            "batch_normalization_165 (BatchN (None, 32, 32, 16)   64          conv2d_168[0][0]                 \n",
            "__________________________________________________________________________________________________\n",
            "re_lu_165 (ReLU)                (None, 32, 32, 16)   0           batch_normalization_165[0][0]    \n",
            "__________________________________________________________________________________________________\n",
            "conv2d_169 (Conv2D)             (None, 32, 32, 16)   2320        re_lu_165[0][0]                  \n",
            "__________________________________________________________________________________________________\n",
            "batch_normalization_166 (BatchN (None, 32, 32, 16)   64          conv2d_169[0][0]                 \n",
            "__________________________________________________________________________________________________\n",
            "re_lu_166 (ReLU)                (None, 32, 32, 16)   0           batch_normalization_166[0][0]    \n",
            "__________________________________________________________________________________________________\n",
            "conv2d_170 (Conv2D)             (None, 32, 32, 64)   1088        re_lu_166[0][0]                  \n",
            "__________________________________________________________________________________________________\n",
            "conv2d_167 (Conv2D)             (None, 32, 32, 64)   1088        re_lu_164[0][0]                  \n",
            "__________________________________________________________________________________________________\n",
            "batch_normalization_167 (BatchN (None, 32, 32, 64)   256         conv2d_170[0][0]                 \n",
            "__________________________________________________________________________________________________\n",
            "add_54 (Add)                    (None, 32, 32, 64)   0           conv2d_167[0][0]                 \n",
            "                                                                 batch_normalization_167[0][0]    \n",
            "__________________________________________________________________________________________________\n",
            "re_lu_167 (ReLU)                (None, 32, 32, 64)   0           add_54[0][0]                     \n",
            "__________________________________________________________________________________________________\n",
            "conv2d_171 (Conv2D)             (None, 32, 32, 16)   1040        re_lu_167[0][0]                  \n",
            "__________________________________________________________________________________________________\n",
            "batch_normalization_168 (BatchN (None, 32, 32, 16)   64          conv2d_171[0][0]                 \n",
            "__________________________________________________________________________________________________\n",
            "re_lu_168 (ReLU)                (None, 32, 32, 16)   0           batch_normalization_168[0][0]    \n",
            "__________________________________________________________________________________________________\n",
            "conv2d_172 (Conv2D)             (None, 32, 32, 16)   2320        re_lu_168[0][0]                  \n",
            "__________________________________________________________________________________________________\n",
            "batch_normalization_169 (BatchN (None, 32, 32, 16)   64          conv2d_172[0][0]                 \n",
            "__________________________________________________________________________________________________\n",
            "re_lu_169 (ReLU)                (None, 32, 32, 16)   0           batch_normalization_169[0][0]    \n",
            "__________________________________________________________________________________________________\n",
            "conv2d_173 (Conv2D)             (None, 32, 32, 64)   1088        re_lu_169[0][0]                  \n",
            "__________________________________________________________________________________________________\n",
            "batch_normalization_170 (BatchN (None, 32, 32, 64)   256         conv2d_173[0][0]                 \n",
            "__________________________________________________________________________________________________\n",
            "add_55 (Add)                    (None, 32, 32, 64)   0           batch_normalization_170[0][0]    \n",
            "                                                                 re_lu_167[0][0]                  \n",
            "__________________________________________________________________________________________________\n",
            "re_lu_170 (ReLU)                (None, 32, 32, 64)   0           add_55[0][0]                     \n",
            "__________________________________________________________________________________________________\n",
            "conv2d_175 (Conv2D)             (None, 32, 32, 64)   4160        re_lu_170[0][0]                  \n",
            "__________________________________________________________________________________________________\n",
            "batch_normalization_171 (BatchN (None, 32, 32, 64)   256         conv2d_175[0][0]                 \n",
            "__________________________________________________________________________________________________\n",
            "re_lu_171 (ReLU)                (None, 32, 32, 64)   0           batch_normalization_171[0][0]    \n",
            "__________________________________________________________________________________________________\n",
            "conv2d_176 (Conv2D)             (None, 16, 16, 64)   36928       re_lu_171[0][0]                  \n",
            "__________________________________________________________________________________________________\n",
            "batch_normalization_172 (BatchN (None, 16, 16, 64)   256         conv2d_176[0][0]                 \n",
            "__________________________________________________________________________________________________\n",
            "re_lu_172 (ReLU)                (None, 16, 16, 64)   0           batch_normalization_172[0][0]    \n",
            "__________________________________________________________________________________________________\n",
            "conv2d_177 (Conv2D)             (None, 16, 16, 128)  8320        re_lu_172[0][0]                  \n",
            "__________________________________________________________________________________________________\n",
            "conv2d_174 (Conv2D)             (None, 16, 16, 128)  8320        re_lu_170[0][0]                  \n",
            "__________________________________________________________________________________________________\n",
            "batch_normalization_173 (BatchN (None, 16, 16, 128)  512         conv2d_177[0][0]                 \n",
            "__________________________________________________________________________________________________\n",
            "add_56 (Add)                    (None, 16, 16, 128)  0           conv2d_174[0][0]                 \n",
            "                                                                 batch_normalization_173[0][0]    \n",
            "__________________________________________________________________________________________________\n",
            "re_lu_173 (ReLU)                (None, 16, 16, 128)  0           add_56[0][0]                     \n",
            "__________________________________________________________________________________________________\n",
            "conv2d_178 (Conv2D)             (None, 16, 16, 64)   8256        re_lu_173[0][0]                  \n",
            "__________________________________________________________________________________________________\n",
            "batch_normalization_174 (BatchN (None, 16, 16, 64)   256         conv2d_178[0][0]                 \n",
            "__________________________________________________________________________________________________\n",
            "re_lu_174 (ReLU)                (None, 16, 16, 64)   0           batch_normalization_174[0][0]    \n",
            "__________________________________________________________________________________________________\n",
            "conv2d_179 (Conv2D)             (None, 16, 16, 64)   36928       re_lu_174[0][0]                  \n",
            "__________________________________________________________________________________________________\n",
            "batch_normalization_175 (BatchN (None, 16, 16, 64)   256         conv2d_179[0][0]                 \n",
            "__________________________________________________________________________________________________\n",
            "re_lu_175 (ReLU)                (None, 16, 16, 64)   0           batch_normalization_175[0][0]    \n",
            "__________________________________________________________________________________________________\n",
            "conv2d_180 (Conv2D)             (None, 16, 16, 128)  8320        re_lu_175[0][0]                  \n",
            "__________________________________________________________________________________________________\n",
            "batch_normalization_176 (BatchN (None, 16, 16, 128)  512         conv2d_180[0][0]                 \n",
            "__________________________________________________________________________________________________\n",
            "add_57 (Add)                    (None, 16, 16, 128)  0           batch_normalization_176[0][0]    \n",
            "                                                                 re_lu_173[0][0]                  \n",
            "__________________________________________________________________________________________________\n",
            "re_lu_176 (ReLU)                (None, 16, 16, 128)  0           add_57[0][0]                     \n",
            "__________________________________________________________________________________________________\n",
            "conv2d_182 (Conv2D)             (None, 16, 16, 128)  16512       re_lu_176[0][0]                  \n",
            "__________________________________________________________________________________________________\n",
            "batch_normalization_177 (BatchN (None, 16, 16, 128)  512         conv2d_182[0][0]                 \n",
            "__________________________________________________________________________________________________\n",
            "re_lu_177 (ReLU)                (None, 16, 16, 128)  0           batch_normalization_177[0][0]    \n",
            "__________________________________________________________________________________________________\n",
            "conv2d_183 (Conv2D)             (None, 8, 8, 128)    147584      re_lu_177[0][0]                  \n",
            "__________________________________________________________________________________________________\n",
            "batch_normalization_178 (BatchN (None, 8, 8, 128)    512         conv2d_183[0][0]                 \n",
            "__________________________________________________________________________________________________\n",
            "re_lu_178 (ReLU)                (None, 8, 8, 128)    0           batch_normalization_178[0][0]    \n",
            "__________________________________________________________________________________________________\n",
            "conv2d_184 (Conv2D)             (None, 8, 8, 256)    33024       re_lu_178[0][0]                  \n",
            "__________________________________________________________________________________________________\n",
            "conv2d_181 (Conv2D)             (None, 8, 8, 256)    33024       re_lu_176[0][0]                  \n",
            "__________________________________________________________________________________________________\n",
            "batch_normalization_179 (BatchN (None, 8, 8, 256)    1024        conv2d_184[0][0]                 \n",
            "__________________________________________________________________________________________________\n",
            "add_58 (Add)                    (None, 8, 8, 256)    0           conv2d_181[0][0]                 \n",
            "                                                                 batch_normalization_179[0][0]    \n",
            "__________________________________________________________________________________________________\n",
            "re_lu_179 (ReLU)                (None, 8, 8, 256)    0           add_58[0][0]                     \n",
            "__________________________________________________________________________________________________\n",
            "conv2d_185 (Conv2D)             (None, 8, 8, 128)    32896       re_lu_179[0][0]                  \n",
            "__________________________________________________________________________________________________\n",
            "batch_normalization_180 (BatchN (None, 8, 8, 128)    512         conv2d_185[0][0]                 \n",
            "__________________________________________________________________________________________________\n",
            "re_lu_180 (ReLU)                (None, 8, 8, 128)    0           batch_normalization_180[0][0]    \n",
            "__________________________________________________________________________________________________\n",
            "conv2d_186 (Conv2D)             (None, 8, 8, 128)    147584      re_lu_180[0][0]                  \n",
            "__________________________________________________________________________________________________\n",
            "batch_normalization_181 (BatchN (None, 8, 8, 128)    512         conv2d_186[0][0]                 \n",
            "__________________________________________________________________________________________________\n",
            "re_lu_181 (ReLU)                (None, 8, 8, 128)    0           batch_normalization_181[0][0]    \n",
            "__________________________________________________________________________________________________\n",
            "conv2d_187 (Conv2D)             (None, 8, 8, 256)    33024       re_lu_181[0][0]                  \n",
            "__________________________________________________________________________________________________\n",
            "batch_normalization_182 (BatchN (None, 8, 8, 256)    1024        conv2d_187[0][0]                 \n",
            "__________________________________________________________________________________________________\n",
            "add_59 (Add)                    (None, 8, 8, 256)    0           batch_normalization_182[0][0]    \n",
            "                                                                 re_lu_179[0][0]                  \n",
            "__________________________________________________________________________________________________\n",
            "re_lu_182 (ReLU)                (None, 8, 8, 256)    0           add_59[0][0]                     \n",
            "__________________________________________________________________________________________________\n",
            "batch_normalization_183 (BatchN (None, 8, 8, 256)    1024        re_lu_182[0][0]                  \n",
            "__________________________________________________________________________________________________\n",
            "re_lu_183 (ReLU)                (None, 8, 8, 256)    0           batch_normalization_183[0][0]    \n",
            "__________________________________________________________________________________________________\n",
            "average_pooling2d_1 (AveragePoo (None, 1, 1, 256)    0           re_lu_183[0][0]                  \n",
            "__________________________________________________________________________________________________\n",
            "flatten_1 (Flatten)             (None, 256)          0           average_pooling2d_1[0][0]        \n",
            "__________________________________________________________________________________________________\n",
            "dense_1 (Dense)                 (None, 10)           2570        flatten_1[0][0]                  \n",
            "==================================================================================================\n",
            "Total params: 575,114\n",
            "Trainable params: 571,114\n",
            "Non-trainable params: 4,000\n",
            "__________________________________________________________________________________________________\n"
          ],
          "name": "stdout"
        }
      ]
    },
    {
      "cell_type": "code",
      "metadata": {
        "id": "cZWsbIFPV4-2",
        "colab_type": "code",
        "colab": {}
      },
      "source": [
        "# Custom LR schedule as mentioned in the LossLandscape paper\n",
        "LR_SCHEDULE = [\n",
        "    # (epoch to start, learning rate) tuples\n",
        "    (0, 1.6*1e-3),\n",
        "    (9, (1.6*1e-3)/2),\n",
        "    (19, (1.6*1e-3)/4),\n",
        "    (29, (1.6*1e-3)/8),\n",
        "]\n",
        "\n",
        "def lr_schedule(epoch):\n",
        "    if (epoch >= 0) & (epoch < 9):\n",
        "        return LR_SCHEDULE[0][1]\n",
        "    elif (epoch >= 9) & (epoch < 19):\n",
        "        return LR_SCHEDULE[1][1]\n",
        "    elif (epoch >= 19) & (epoch < 29):\n",
        "        return LR_SCHEDULE[2][1]\n",
        "    else:\n",
        "        return LR_SCHEDULE[3][1]\n",
        "\n",
        "lr_callback = tf.keras.callbacks.LearningRateScheduler(lambda epoch: lr_schedule(epoch), verbose=True)"
      ],
      "execution_count": 69,
      "outputs": []
    },
    {
      "cell_type": "code",
      "metadata": {
        "id": "-EMm1uWXdhPu",
        "colab_type": "code",
        "colab": {
          "base_uri": "https://localhost:8080/",
          "height": 265
        },
        "outputId": "a58d5413-4128-49d4-d86b-4f81786cf43d"
      },
      "source": [
        "plt.plot([lr_schedule(x) for x in rng])\n",
        "plt.show()"
      ],
      "execution_count": 70,
      "outputs": [
        {
          "output_type": "display_data",
          "data": {
            "image/png": "[encoded data removed]",
            "text/plain": [
              "<Figure size 432x288 with 1 Axes>"
            ]
          },
          "metadata": {
            "tags": [],
            "needs_background": "light"
          }
        }
      ]
    },
    {
      "cell_type": "code",
      "metadata": {
        "id": "WOv6rFsbR9z2",
        "colab_type": "code",
        "colab": {
          "base_uri": "https://localhost:8080/",
          "height": 1000
        },
        "outputId": "b7875b5a-e714-4000-ab8d-a80e6cd08ab5"
      },
      "source": [
        "# Train model\n",
        "model = get_training_model()\n",
        "model.compile(loss=\"sparse_categorical_crossentropy\", optimizer=\"adam\", metrics=[\"accuracy\"])\n",
        "start = time.time()\n",
        "h = model.fit(train_ds,\n",
        "         validation_data=test_ds,\n",
        "         epochs=40,\n",
        "         callbacks=[lr_callback])\n",
        "end = time.time()\n",
        "print(\"Network takes {:.3f} seconds to train\".format(end - start))\n",
        "plot_training(h)"
      ],
      "execution_count": 71,
      "outputs": [
        {
          "output_type": "stream",
          "text": [
            "\n",
            "Epoch 00001: LearningRateScheduler reducing learning rate to 0.0016.\n",
            "Epoch 1/40\n",
            "391/391 [==============================] - 47s 119ms/step - loss: 1.3315 - accuracy: 0.5166 - val_loss: 1.5193 - val_accuracy: 0.4933 - lr: 0.0016\n",
            "\n",
            "Epoch 00002: LearningRateScheduler reducing learning rate to 0.0016.\n",
            "Epoch 2/40\n",
            "391/391 [==============================] - 46s 118ms/step - loss: 0.9361 - accuracy: 0.6697 - val_loss: 1.3517 - val_accuracy: 0.5490 - lr: 0.0016\n",
            "\n",
            "Epoch 00003: LearningRateScheduler reducing learning rate to 0.0016.\n",
            "Epoch 3/40\n",
            "391/391 [==============================] - 46s 118ms/step - loss: 0.7493 - accuracy: 0.7366 - val_loss: 1.1005 - val_accuracy: 0.6303 - lr: 0.0016\n",
            "\n",
            "Epoch 00004: LearningRateScheduler reducing learning rate to 0.0016.\n",
            "Epoch 4/40\n",
            "391/391 [==============================] - 46s 118ms/step - loss: 0.6130 - accuracy: 0.7872 - val_loss: 1.1103 - val_accuracy: 0.6566 - lr: 0.0016\n",
            "\n",
            "Epoch 00005: LearningRateScheduler reducing learning rate to 0.0016.\n",
            "Epoch 5/40\n",
            "391/391 [==============================] - 46s 118ms/step - loss: 0.5124 - accuracy: 0.8226 - val_loss: 1.0275 - val_accuracy: 0.6626 - lr: 0.0016\n",
            "\n",
            "Epoch 00006: LearningRateScheduler reducing learning rate to 0.0016.\n",
            "Epoch 6/40\n",
            "391/391 [==============================] - 46s 118ms/step - loss: 0.4277 - accuracy: 0.8507 - val_loss: 1.1813 - val_accuracy: 0.6852 - lr: 0.0016\n",
            "\n",
            "Epoch 00007: LearningRateScheduler reducing learning rate to 0.0016.\n",
            "Epoch 7/40\n",
            "391/391 [==============================] - 46s 118ms/step - loss: 0.3580 - accuracy: 0.8779 - val_loss: 1.3141 - val_accuracy: 0.6459 - lr: 0.0016\n",
            "\n",
            "Epoch 00008: LearningRateScheduler reducing learning rate to 0.0016.\n",
            "Epoch 8/40\n",
            "391/391 [==============================] - 46s 118ms/step - loss: 0.2857 - accuracy: 0.9002 - val_loss: 1.2123 - val_accuracy: 0.6894 - lr: 0.0016\n",
            "\n",
            "Epoch 00009: LearningRateScheduler reducing learning rate to 0.0016.\n",
            "Epoch 9/40\n",
            "391/391 [==============================] - 46s 118ms/step - loss: 0.2444 - accuracy: 0.9142 - val_loss: 1.0131 - val_accuracy: 0.7267 - lr: 0.0016\n",
            "\n",
            "Epoch 00010: LearningRateScheduler reducing learning rate to 0.0008.\n",
            "Epoch 10/40\n",
            "391/391 [==============================] - 46s 118ms/step - loss: 0.1242 - accuracy: 0.9609 - val_loss: 0.9081 - val_accuracy: 0.7614 - lr: 8.0000e-04\n",
            "\n",
            "Epoch 00011: LearningRateScheduler reducing learning rate to 0.0008.\n",
            "Epoch 11/40\n",
            "391/391 [==============================] - 46s 118ms/step - loss: 0.0635 - accuracy: 0.9830 - val_loss: 0.9625 - val_accuracy: 0.7646 - lr: 8.0000e-04\n",
            "\n",
            "Epoch 00012: LearningRateScheduler reducing learning rate to 0.0008.\n",
            "Epoch 12/40\n",
            "391/391 [==============================] - 46s 119ms/step - loss: 0.0415 - accuracy: 0.9907 - val_loss: 1.1145 - val_accuracy: 0.7519 - lr: 8.0000e-04\n",
            "\n",
            "Epoch 00013: LearningRateScheduler reducing learning rate to 0.0008.\n",
            "Epoch 13/40\n",
            "391/391 [==============================] - 46s 118ms/step - loss: 0.0369 - accuracy: 0.9908 - val_loss: 1.1007 - val_accuracy: 0.7594 - lr: 8.0000e-04\n",
            "\n",
            "Epoch 00014: LearningRateScheduler reducing learning rate to 0.0008.\n",
            "Epoch 14/40\n",
            "391/391 [==============================] - 46s 119ms/step - loss: 0.0405 - accuracy: 0.9882 - val_loss: 1.1530 - val_accuracy: 0.7574 - lr: 8.0000e-04\n",
            "\n",
            "Epoch 00015: LearningRateScheduler reducing learning rate to 0.0008.\n",
            "Epoch 15/40\n",
            "391/391 [==============================] - 47s 119ms/step - loss: 0.0513 - accuracy: 0.9827 - val_loss: 1.5637 - val_accuracy: 0.7070 - lr: 8.0000e-04\n",
            "\n",
            "Epoch 00016: LearningRateScheduler reducing learning rate to 0.0008.\n",
            "Epoch 16/40\n",
            "391/391 [==============================] - 47s 119ms/step - loss: 0.0480 - accuracy: 0.9843 - val_loss: 1.4036 - val_accuracy: 0.7394 - lr: 8.0000e-04\n",
            "\n",
            "Epoch 00017: LearningRateScheduler reducing learning rate to 0.0008.\n",
            "Epoch 17/40\n",
            "391/391 [==============================] - 47s 119ms/step - loss: 0.0354 - accuracy: 0.9895 - val_loss: 1.2657 - val_accuracy: 0.7439 - lr: 8.0000e-04\n",
            "\n",
            "Epoch 00018: LearningRateScheduler reducing learning rate to 0.0008.\n",
            "Epoch 18/40\n",
            "391/391 [==============================] - 46s 119ms/step - loss: 0.0410 - accuracy: 0.9866 - val_loss: 1.4042 - val_accuracy: 0.7400 - lr: 8.0000e-04\n",
            "\n",
            "Epoch 00019: LearningRateScheduler reducing learning rate to 0.0008.\n",
            "Epoch 19/40\n",
            "391/391 [==============================] - 46s 119ms/step - loss: 0.0386 - accuracy: 0.9875 - val_loss: 1.6080 - val_accuracy: 0.7285 - lr: 8.0000e-04\n",
            "\n",
            "Epoch 00020: LearningRateScheduler reducing learning rate to 0.0004.\n",
            "Epoch 20/40\n",
            "391/391 [==============================] - 47s 119ms/step - loss: 0.0161 - accuracy: 0.9956 - val_loss: 1.0546 - val_accuracy: 0.7913 - lr: 4.0000e-04\n",
            "\n",
            "Epoch 00021: LearningRateScheduler reducing learning rate to 0.0004.\n",
            "Epoch 21/40\n",
            "391/391 [==============================] - 46s 119ms/step - loss: 0.0064 - accuracy: 0.9990 - val_loss: 1.1051 - val_accuracy: 0.7905 - lr: 4.0000e-04\n",
            "\n",
            "Epoch 00022: LearningRateScheduler reducing learning rate to 0.0004.\n",
            "Epoch 22/40\n",
            "391/391 [==============================] - 46s 119ms/step - loss: 0.0037 - accuracy: 0.9997 - val_loss: 1.1159 - val_accuracy: 0.7943 - lr: 4.0000e-04\n",
            "\n",
            "Epoch 00023: LearningRateScheduler reducing learning rate to 0.0004.\n",
            "Epoch 23/40\n",
            "391/391 [==============================] - 46s 119ms/step - loss: 0.0024 - accuracy: 0.9998 - val_loss: 1.1185 - val_accuracy: 0.7912 - lr: 4.0000e-04\n",
            "\n",
            "Epoch 00024: LearningRateScheduler reducing learning rate to 0.0004.\n",
            "Epoch 24/40\n",
            "391/391 [==============================] - 46s 119ms/step - loss: 0.0021 - accuracy: 0.9998 - val_loss: 1.1417 - val_accuracy: 0.7928 - lr: 4.0000e-04\n",
            "\n",
            "Epoch 00025: LearningRateScheduler reducing learning rate to 0.0004.\n",
            "Epoch 25/40\n",
            "391/391 [==============================] - 46s 118ms/step - loss: 0.0014 - accuracy: 1.0000 - val_loss: 1.1319 - val_accuracy: 0.7921 - lr: 4.0000e-04\n",
            "\n",
            "Epoch 00026: LearningRateScheduler reducing learning rate to 0.0004.\n",
            "Epoch 26/40\n",
            "391/391 [==============================] - 46s 118ms/step - loss: 9.8994e-04 - accuracy: 1.0000 - val_loss: 1.1848 - val_accuracy: 0.7917 - lr: 4.0000e-04\n",
            "\n",
            "Epoch 00027: LearningRateScheduler reducing learning rate to 0.0004.\n",
            "Epoch 27/40\n",
            "391/391 [==============================] - 46s 118ms/step - loss: 9.3552e-04 - accuracy: 1.0000 - val_loss: 1.2004 - val_accuracy: 0.7935 - lr: 4.0000e-04\n",
            "\n",
            "Epoch 00028: LearningRateScheduler reducing learning rate to 0.0004.\n",
            "Epoch 28/40\n",
            "391/391 [==============================] - 46s 118ms/step - loss: 0.0014 - accuracy: 0.9999 - val_loss: 1.2400 - val_accuracy: 0.7851 - lr: 4.0000e-04\n",
            "\n",
            "Epoch 00029: LearningRateScheduler reducing learning rate to 0.0004.\n",
            "Epoch 29/40\n",
            "391/391 [==============================] - 46s 118ms/step - loss: 0.0315 - accuracy: 0.9887 - val_loss: 2.0740 - val_accuracy: 0.6961 - lr: 4.0000e-04\n",
            "\n",
            "Epoch 00030: LearningRateScheduler reducing learning rate to 0.0002.\n",
            "Epoch 30/40\n",
            "391/391 [==============================] - 47s 119ms/step - loss: 0.0186 - accuracy: 0.9940 - val_loss: 1.1724 - val_accuracy: 0.7883 - lr: 2.0000e-04\n",
            "\n",
            "Epoch 00031: LearningRateScheduler reducing learning rate to 0.0002.\n",
            "Epoch 31/40\n",
            "391/391 [==============================] - 46s 119ms/step - loss: 0.0041 - accuracy: 0.9996 - val_loss: 1.1567 - val_accuracy: 0.7927 - lr: 2.0000e-04\n",
            "\n",
            "Epoch 00032: LearningRateScheduler reducing learning rate to 0.0002.\n",
            "Epoch 32/40\n",
            "391/391 [==============================] - 47s 119ms/step - loss: 0.0023 - accuracy: 0.9998 - val_loss: 1.1793 - val_accuracy: 0.7953 - lr: 2.0000e-04\n",
            "\n",
            "Epoch 00033: LearningRateScheduler reducing learning rate to 0.0002.\n",
            "Epoch 33/40\n",
            "391/391 [==============================] - 46s 119ms/step - loss: 0.0015 - accuracy: 1.0000 - val_loss: 1.1704 - val_accuracy: 0.7946 - lr: 2.0000e-04\n",
            "\n",
            "Epoch 00034: LearningRateScheduler reducing learning rate to 0.0002.\n",
            "Epoch 34/40\n",
            "391/391 [==============================] - 47s 119ms/step - loss: 0.0012 - accuracy: 1.0000 - val_loss: 1.1886 - val_accuracy: 0.7932 - lr: 2.0000e-04\n",
            "\n",
            "Epoch 00035: LearningRateScheduler reducing learning rate to 0.0002.\n",
            "Epoch 35/40\n",
            "391/391 [==============================] - 46s 119ms/step - loss: 0.0011 - accuracy: 0.9999 - val_loss: 1.2189 - val_accuracy: 0.7940 - lr: 2.0000e-04\n",
            "\n",
            "Epoch 00036: LearningRateScheduler reducing learning rate to 0.0002.\n",
            "Epoch 36/40\n",
            "391/391 [==============================] - 46s 118ms/step - loss: 9.7363e-04 - accuracy: 1.0000 - val_loss: 1.2371 - val_accuracy: 0.7916 - lr: 2.0000e-04\n",
            "\n",
            "Epoch 00037: LearningRateScheduler reducing learning rate to 0.0002.\n",
            "Epoch 37/40\n",
            "391/391 [==============================] - 46s 119ms/step - loss: 8.2836e-04 - accuracy: 1.0000 - val_loss: 1.2184 - val_accuracy: 0.7931 - lr: 2.0000e-04\n",
            "\n",
            "Epoch 00038: LearningRateScheduler reducing learning rate to 0.0002.\n",
            "Epoch 38/40\n",
            "391/391 [==============================] - 46s 119ms/step - loss: 6.4759e-04 - accuracy: 1.0000 - val_loss: 1.2342 - val_accuracy: 0.7927 - lr: 2.0000e-04\n",
            "\n",
            "Epoch 00039: LearningRateScheduler reducing learning rate to 0.0002.\n",
            "Epoch 39/40\n",
            "391/391 [==============================] - 46s 118ms/step - loss: 7.4521e-04 - accuracy: 1.0000 - val_loss: 1.2486 - val_accuracy: 0.7921 - lr: 2.0000e-04\n",
            "\n",
            "Epoch 00040: LearningRateScheduler reducing learning rate to 0.0002.\n",
            "Epoch 40/40\n",
            "391/391 [==============================] - 46s 119ms/step - loss: 7.3479e-04 - accuracy: 1.0000 - val_loss: 1.2755 - val_accuracy: 0.7953 - lr: 2.0000e-04\n",
            "Network takes 1865.605 seconds to train\n"
          ],
          "name": "stdout"
        },
        {
          "output_type": "display_data",
          "data": {
            "image/png": "[encoded data removed]",
            "text/plain": [
              "<Figure size 432x288 with 1 Axes>"
            ]
          },
          "metadata": {
            "tags": []
          }
        }
      ]
    },
    {
      "cell_type": "code",
      "metadata": {
        "id": "hGjUF8bEulXV",
        "colab_type": "code",
        "colab": {}
      },
      "source": [
        "# Serialize the model\n",
        "model.save('resnet20v1_cifar10_40epochs.h5')"
      ],
      "execution_count": 72,
      "outputs": []
    },
    {
      "cell_type": "code",
      "metadata": {
        "id": "Umq0Hyd6xVPQ",
        "colab_type": "code",
        "colab": {}
      },
      "source": [
        "# Adding data augmentation\n",
        "def augment(image,label):\n",
        "    image = tf.image.resize_with_crop_or_pad(image, 40, 40) # Add 8 pixels of padding\n",
        "    image = tf.image.random_crop(image, size=[32, 32, 3]) # Random crop back to 32x32\n",
        "    image = tf.image.random_brightness(image, max_delta=0.5) # Random brightness\n",
        "    image = tf.clip_by_value(image, 0., 1.)\n",
        "    \n",
        "    return image, label\n",
        "\n",
        "train_ds = tf.data.Dataset.from_tensor_slices((x_train, y_train))\n",
        "train_ds = (\n",
        "    train_ds\n",
        "    .shuffle(1024)\n",
        "    .map(normalize, num_parallel_calls=tf.data.experimental.AUTOTUNE)\n",
        "    .map(augment, num_parallel_calls=tf.data.experimental.AUTOTUNE)\n",
        "    .batch(BATCH_SIZE)\n",
        "    .prefetch(tf.data.experimental.AUTOTUNE)\n",
        ")\n",
        "\n",
        "test_ds = tf.data.Dataset.from_tensor_slices((x_test, y_test))\n",
        "test_ds = (\n",
        "    test_ds\n",
        "    .map(normalize, num_parallel_calls=tf.data.experimental.AUTOTUNE)\n",
        "    .batch(BATCH_SIZE)\n",
        "    .prefetch(tf.data.experimental.AUTOTUNE)\n",
        ")"
      ],
      "execution_count": 73,
      "outputs": []
    },
    {
      "cell_type": "code",
      "metadata": {
        "id": "5DrzQlXOxgCy",
        "colab_type": "code",
        "colab": {
          "base_uri": "https://localhost:8080/",
          "height": 1000
        },
        "outputId": "b185dde9-01f7-4722-bbeb-e63d7a77335a"
      },
      "source": [
        "# Train model\n",
        "model = get_training_model()\n",
        "model.compile(loss=\"sparse_categorical_crossentropy\", optimizer=\"adam\", metrics=[\"accuracy\"])\n",
        "start = time.time()\n",
        "h = model.fit(train_ds,\n",
        "         validation_data=test_ds,\n",
        "         epochs=40,\n",
        "         callbacks=[lr_callback])\n",
        "end = time.time()\n",
        "print(\"Network takes {:.3f} seconds to train\".format(end - start))\n",
        "plot_training(h)"
      ],
      "execution_count": 74,
      "outputs": [
        {
          "output_type": "stream",
          "text": [
            "\n",
            "Epoch 00001: LearningRateScheduler reducing learning rate to 0.0016.\n",
            "Epoch 1/40\n",
            "391/391 [==============================] - 47s 119ms/step - loss: 1.6023 - accuracy: 0.4100 - val_loss: 1.7511 - val_accuracy: 0.4241 - lr: 0.0016\n",
            "\n",
            "Epoch 00002: LearningRateScheduler reducing learning rate to 0.0016.\n",
            "Epoch 2/40\n",
            "391/391 [==============================] - 46s 118ms/step - loss: 1.2054 - accuracy: 0.5667 - val_loss: 1.2724 - val_accuracy: 0.5724 - lr: 0.0016\n",
            "\n",
            "Epoch 00003: LearningRateScheduler reducing learning rate to 0.0016.\n",
            "Epoch 3/40\n",
            "391/391 [==============================] - 46s 119ms/step - loss: 1.0296 - accuracy: 0.6324 - val_loss: 1.0796 - val_accuracy: 0.6244 - lr: 0.0016\n",
            "\n",
            "Epoch 00004: LearningRateScheduler reducing learning rate to 0.0016.\n",
            "Epoch 4/40\n",
            "391/391 [==============================] - 46s 118ms/step - loss: 0.9027 - accuracy: 0.6799 - val_loss: 0.9315 - val_accuracy: 0.6671 - lr: 0.0016\n",
            "\n",
            "Epoch 00005: LearningRateScheduler reducing learning rate to 0.0016.\n",
            "Epoch 5/40\n",
            "391/391 [==============================] - 46s 119ms/step - loss: 0.8114 - accuracy: 0.7162 - val_loss: 1.0480 - val_accuracy: 0.6734 - lr: 0.0016\n",
            "\n",
            "Epoch 00006: LearningRateScheduler reducing learning rate to 0.0016.\n",
            "Epoch 6/40\n",
            "391/391 [==============================] - 46s 118ms/step - loss: 0.7408 - accuracy: 0.7419 - val_loss: 0.9699 - val_accuracy: 0.7020 - lr: 0.0016\n",
            "\n",
            "Epoch 00007: LearningRateScheduler reducing learning rate to 0.0016.\n",
            "Epoch 7/40\n",
            "391/391 [==============================] - 46s 118ms/step - loss: 0.6880 - accuracy: 0.7610 - val_loss: 0.7528 - val_accuracy: 0.7463 - lr: 0.0016\n",
            "\n",
            "Epoch 00008: LearningRateScheduler reducing learning rate to 0.0016.\n",
            "Epoch 8/40\n",
            "391/391 [==============================] - 46s 118ms/step - loss: 0.6459 - accuracy: 0.7761 - val_loss: 0.8762 - val_accuracy: 0.7195 - lr: 0.0016\n",
            "\n",
            "Epoch 00009: LearningRateScheduler reducing learning rate to 0.0016.\n",
            "Epoch 9/40\n",
            "391/391 [==============================] - 46s 118ms/step - loss: 0.6108 - accuracy: 0.7877 - val_loss: 0.6781 - val_accuracy: 0.7646 - lr: 0.0016\n",
            "\n",
            "Epoch 00010: LearningRateScheduler reducing learning rate to 0.0008.\n",
            "Epoch 10/40\n",
            "391/391 [==============================] - 46s 118ms/step - loss: 0.5271 - accuracy: 0.8168 - val_loss: 0.5587 - val_accuracy: 0.8075 - lr: 8.0000e-04\n",
            "\n",
            "Epoch 00011: LearningRateScheduler reducing learning rate to 0.0008.\n",
            "Epoch 11/40\n",
            "391/391 [==============================] - 46s 118ms/step - loss: 0.5008 - accuracy: 0.8265 - val_loss: 0.5819 - val_accuracy: 0.8046 - lr: 8.0000e-04\n",
            "\n",
            "Epoch 00012: LearningRateScheduler reducing learning rate to 0.0008.\n",
            "Epoch 12/40\n",
            "391/391 [==============================] - 46s 118ms/step - loss: 0.4820 - accuracy: 0.8311 - val_loss: 0.5787 - val_accuracy: 0.8125 - lr: 8.0000e-04\n",
            "\n",
            "Epoch 00013: LearningRateScheduler reducing learning rate to 0.0008.\n",
            "Epoch 13/40\n",
            "391/391 [==============================] - 46s 118ms/step - loss: 0.4677 - accuracy: 0.8363 - val_loss: 0.5504 - val_accuracy: 0.8184 - lr: 8.0000e-04\n",
            "\n",
            "Epoch 00014: LearningRateScheduler reducing learning rate to 0.0008.\n",
            "Epoch 14/40\n",
            "391/391 [==============================] - 46s 118ms/step - loss: 0.4527 - accuracy: 0.8404 - val_loss: 0.5526 - val_accuracy: 0.8171 - lr: 8.0000e-04\n",
            "\n",
            "Epoch 00015: LearningRateScheduler reducing learning rate to 0.0008.\n",
            "Epoch 15/40\n",
            "391/391 [==============================] - 46s 118ms/step - loss: 0.4378 - accuracy: 0.8482 - val_loss: 0.5176 - val_accuracy: 0.8269 - lr: 8.0000e-04\n",
            "\n",
            "Epoch 00016: LearningRateScheduler reducing learning rate to 0.0008.\n",
            "Epoch 16/40\n",
            "391/391 [==============================] - 46s 118ms/step - loss: 0.4195 - accuracy: 0.8542 - val_loss: 0.5323 - val_accuracy: 0.8279 - lr: 8.0000e-04\n",
            "\n",
            "Epoch 00017: LearningRateScheduler reducing learning rate to 0.0008.\n",
            "Epoch 17/40\n",
            "391/391 [==============================] - 46s 118ms/step - loss: 0.4095 - accuracy: 0.8577 - val_loss: 0.5694 - val_accuracy: 0.8203 - lr: 8.0000e-04\n",
            "\n",
            "Epoch 00018: LearningRateScheduler reducing learning rate to 0.0008.\n",
            "Epoch 18/40\n",
            "391/391 [==============================] - 46s 118ms/step - loss: 0.3969 - accuracy: 0.8604 - val_loss: 0.5360 - val_accuracy: 0.8290 - lr: 8.0000e-04\n",
            "\n",
            "Epoch 00019: LearningRateScheduler reducing learning rate to 0.0008.\n",
            "Epoch 19/40\n",
            "391/391 [==============================] - 46s 118ms/step - loss: 0.3898 - accuracy: 0.8654 - val_loss: 0.5256 - val_accuracy: 0.8311 - lr: 8.0000e-04\n",
            "\n",
            "Epoch 00020: LearningRateScheduler reducing learning rate to 0.0004.\n",
            "Epoch 20/40\n",
            "391/391 [==============================] - 46s 118ms/step - loss: 0.3482 - accuracy: 0.8806 - val_loss: 0.4601 - val_accuracy: 0.8531 - lr: 4.0000e-04\n",
            "\n",
            "Epoch 00021: LearningRateScheduler reducing learning rate to 0.0004.\n",
            "Epoch 21/40\n",
            "391/391 [==============================] - 46s 118ms/step - loss: 0.3323 - accuracy: 0.8828 - val_loss: 0.5005 - val_accuracy: 0.8465 - lr: 4.0000e-04\n",
            "\n",
            "Epoch 00022: LearningRateScheduler reducing learning rate to 0.0004.\n",
            "Epoch 22/40\n",
            "391/391 [==============================] - 46s 118ms/step - loss: 0.3204 - accuracy: 0.8882 - val_loss: 0.4909 - val_accuracy: 0.8419 - lr: 4.0000e-04\n",
            "\n",
            "Epoch 00023: LearningRateScheduler reducing learning rate to 0.0004.\n",
            "Epoch 23/40\n",
            "391/391 [==============================] - 46s 118ms/step - loss: 0.3137 - accuracy: 0.8909 - val_loss: 0.4779 - val_accuracy: 0.8463 - lr: 4.0000e-04\n",
            "\n",
            "Epoch 00024: LearningRateScheduler reducing learning rate to 0.0004.\n",
            "Epoch 24/40\n",
            "391/391 [==============================] - 46s 118ms/step - loss: 0.3094 - accuracy: 0.8928 - val_loss: 0.4859 - val_accuracy: 0.8496 - lr: 4.0000e-04\n",
            "\n",
            "Epoch 00025: LearningRateScheduler reducing learning rate to 0.0004.\n",
            "Epoch 25/40\n",
            "391/391 [==============================] - 46s 118ms/step - loss: 0.3017 - accuracy: 0.8943 - val_loss: 0.4803 - val_accuracy: 0.8531 - lr: 4.0000e-04\n",
            "\n",
            "Epoch 00026: LearningRateScheduler reducing learning rate to 0.0004.\n",
            "Epoch 26/40\n",
            "391/391 [==============================] - 46s 118ms/step - loss: 0.2942 - accuracy: 0.8961 - val_loss: 0.4738 - val_accuracy: 0.8531 - lr: 4.0000e-04\n",
            "\n",
            "Epoch 00027: LearningRateScheduler reducing learning rate to 0.0004.\n",
            "Epoch 27/40\n",
            "391/391 [==============================] - 46s 117ms/step - loss: 0.2926 - accuracy: 0.8971 - val_loss: 0.5052 - val_accuracy: 0.8461 - lr: 4.0000e-04\n",
            "\n",
            "Epoch 00028: LearningRateScheduler reducing learning rate to 0.0004.\n",
            "Epoch 28/40\n",
            "391/391 [==============================] - 46s 118ms/step - loss: 0.2803 - accuracy: 0.9018 - val_loss: 0.4990 - val_accuracy: 0.8469 - lr: 4.0000e-04\n",
            "\n",
            "Epoch 00029: LearningRateScheduler reducing learning rate to 0.0004.\n",
            "Epoch 29/40\n",
            "391/391 [==============================] - 46s 118ms/step - loss: 0.2745 - accuracy: 0.9039 - val_loss: 0.4811 - val_accuracy: 0.8566 - lr: 4.0000e-04\n",
            "\n",
            "Epoch 00030: LearningRateScheduler reducing learning rate to 0.0002.\n",
            "Epoch 30/40\n",
            "391/391 [==============================] - 46s 118ms/step - loss: 0.2567 - accuracy: 0.9119 - val_loss: 0.4497 - val_accuracy: 0.8598 - lr: 2.0000e-04\n",
            "\n",
            "Epoch 00031: LearningRateScheduler reducing learning rate to 0.0002.\n",
            "Epoch 31/40\n",
            "391/391 [==============================] - 46s 118ms/step - loss: 0.2524 - accuracy: 0.9129 - val_loss: 0.4680 - val_accuracy: 0.8566 - lr: 2.0000e-04\n",
            "\n",
            "Epoch 00032: LearningRateScheduler reducing learning rate to 0.0002.\n",
            "Epoch 32/40\n",
            "391/391 [==============================] - 46s 117ms/step - loss: 0.2427 - accuracy: 0.9170 - val_loss: 0.4533 - val_accuracy: 0.8623 - lr: 2.0000e-04\n",
            "\n",
            "Epoch 00033: LearningRateScheduler reducing learning rate to 0.0002.\n",
            "Epoch 33/40\n",
            "391/391 [==============================] - 46s 117ms/step - loss: 0.2429 - accuracy: 0.9157 - val_loss: 0.4642 - val_accuracy: 0.8613 - lr: 2.0000e-04\n",
            "\n",
            "Epoch 00034: LearningRateScheduler reducing learning rate to 0.0002.\n",
            "Epoch 34/40\n",
            "391/391 [==============================] - 46s 118ms/step - loss: 0.2423 - accuracy: 0.9164 - val_loss: 0.4532 - val_accuracy: 0.8602 - lr: 2.0000e-04\n",
            "\n",
            "Epoch 00035: LearningRateScheduler reducing learning rate to 0.0002.\n",
            "Epoch 35/40\n",
            "391/391 [==============================] - 46s 118ms/step - loss: 0.2324 - accuracy: 0.9200 - val_loss: 0.4621 - val_accuracy: 0.8597 - lr: 2.0000e-04\n",
            "\n",
            "Epoch 00036: LearningRateScheduler reducing learning rate to 0.0002.\n",
            "Epoch 36/40\n",
            "391/391 [==============================] - 46s 118ms/step - loss: 0.2286 - accuracy: 0.9197 - val_loss: 0.4535 - val_accuracy: 0.8649 - lr: 2.0000e-04\n",
            "\n",
            "Epoch 00037: LearningRateScheduler reducing learning rate to 0.0002.\n",
            "Epoch 37/40\n",
            "391/391 [==============================] - 46s 118ms/step - loss: 0.2315 - accuracy: 0.9209 - val_loss: 0.4646 - val_accuracy: 0.8616 - lr: 2.0000e-04\n",
            "\n",
            "Epoch 00038: LearningRateScheduler reducing learning rate to 0.0002.\n",
            "Epoch 38/40\n",
            "391/391 [==============================] - 46s 118ms/step - loss: 0.2260 - accuracy: 0.9205 - val_loss: 0.4958 - val_accuracy: 0.8518 - lr: 2.0000e-04\n",
            "\n",
            "Epoch 00039: LearningRateScheduler reducing learning rate to 0.0002.\n",
            "Epoch 39/40\n",
            "391/391 [==============================] - 46s 118ms/step - loss: 0.2262 - accuracy: 0.9216 - val_loss: 0.4599 - val_accuracy: 0.8629 - lr: 2.0000e-04\n",
            "\n",
            "Epoch 00040: LearningRateScheduler reducing learning rate to 0.0002.\n",
            "Epoch 40/40\n",
            "391/391 [==============================] - 46s 118ms/step - loss: 0.2229 - accuracy: 0.9225 - val_loss: 0.4740 - val_accuracy: 0.8594 - lr: 2.0000e-04\n",
            "Network takes 1855.961 seconds to train\n"
          ],
          "name": "stdout"
        },
        {
          "output_type": "display_data",
          "data": {
            "image/png": "[encoded data removed]",
            "text/plain": [
              "<Figure size 432x288 with 1 Axes>"
            ]
          },
          "metadata": {
            "tags": []
          }
        }
      ]
    },
    {
      "cell_type": "code",
      "metadata": {
        "id": "Mah_NGL6xilE",
        "colab_type": "code",
        "colab": {}
      },
      "source": [
        "# Serialize the model\n",
        "model.save('resnet20v1_cifar10_40epochs_data_aug.h5')"
      ],
      "execution_count": 75,
      "outputs": []
    },
    {
      "cell_type": "markdown",
      "metadata": {
        "id": "8KSGyTxHx1HR",
        "colab_type": "text"
      },
      "source": [
        "Put the model weights in a GCS bucket. "
      ]
    },
    {
      "cell_type": "code",
      "metadata": {
        "id": "jWSj_N_dx0D0",
        "colab_type": "code",
        "colab": {}
      },
      "source": [
        "from google.colab import auth as google_auth\n",
        "google_auth.authenticate_user()"
      ],
      "execution_count": 76,
      "outputs": []
    },
    {
      "cell_type": "code",
      "metadata": {
        "id": "NIrhJ6um1J6e",
        "colab_type": "code",
        "colab": {
          "base_uri": "https://localhost:8080/",
          "height": 85
        },
        "outputId": "6be8f718-d67f-4f85-8908-520afd01ed3d"
      },
      "source": [
        "!gsutil -m cp -r *.h5 gs://losslandscape"
      ],
      "execution_count": 79,
      "outputs": [
        {
          "output_type": "stream",
          "text": [
            "Copying file://resnet20v1_cifar10_40epochs_data_aug.h5 [Content-Type=application/octet-stream]...\n",
            "Copying file://resnet20v1_cifar10_40epochs.h5 [Content-Type=application/octet-stream]...\n",
            "\\ [2/2 files][ 13.9 MiB/ 13.9 MiB] 100% Done                                    \n",
            "Operation completed over 2 objects/13.9 MiB.                                     \n"
          ],
          "name": "stdout"
        }
      ]
    }
  ]
}