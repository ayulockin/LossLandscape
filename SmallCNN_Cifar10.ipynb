{
  "nbformat": 4,
  "nbformat_minor": 0,
  "metadata": {
    "colab": {
      "name": "SmallCNN_Cifar10",
      "provenance": [],
      "collapsed_sections": [],
      "toc_visible": true,
      "authorship_tag": "ABX9TyNYNm1ICiRfbjX+/GknDlCO",
      "include_colab_link": true
    },
    "kernelspec": {
      "name": "python3",
      "display_name": "Python 3"
    },
    "accelerator": "GPU"
  },
  "cells": [
    {
      "cell_type": "markdown",
      "metadata": {
        "id": "view-in-github",
        "colab_type": "text"
      },
      "source": [
        "<a href=\"https://colab.research.google.com/github/ayulockin/LossLandscape/blob/master/SmallCNN_Cifar10.ipynb\" target=\"_parent\"><img src=\"https://colab.research.google.com/assets/colab-badge.svg\" alt=\"Open In Colab\"/></a>"
      ]
    },
    {
      "cell_type": "markdown",
      "metadata": {
        "id": "GKzu9hbgqw2x",
        "colab_type": "text"
      },
      "source": [
        "# Setups, Installations and Imports"
      ]
    },
    {
      "cell_type": "code",
      "metadata": {
        "id": "YT_P8aSjO-ps",
        "colab_type": "code",
        "colab": {
          "base_uri": "https://localhost:8080/",
          "height": 384
        },
        "outputId": "ddc27aa7-35b0-472d-8c56-4707b1a7807c"
      },
      "source": [
        "!nvidia-smi"
      ],
      "execution_count": 1,
      "outputs": [
        {
          "output_type": "stream",
          "text": [
            "Wed Jul 15 09:06:20 2020       \n",
            "+-----------------------------------------------------------------------------+\n",
            "| NVIDIA-SMI 450.51.05    Driver Version: 418.67       CUDA Version: 10.1     |\n",
            "|-------------------------------+----------------------+----------------------+\n",
            "| GPU  Name        Persistence-M| Bus-Id        Disp.A | Volatile Uncorr. ECC |\n",
            "| Fan  Temp  Perf  Pwr:Usage/Cap|         Memory-Usage | GPU-Util  Compute M. |\n",
            "|                               |                      |               MIG M. |\n",
            "|===============================+======================+======================|\n",
            "|   0  Tesla P4            Off  | 00000000:00:04.0 Off |                    0 |\n",
            "| N/A   37C    P8     7W /  75W |      0MiB /  7611MiB |      0%      Default |\n",
            "|                               |                      |                 ERR! |\n",
            "+-------------------------------+----------------------+----------------------+\n",
            "                                                                               \n",
            "+-----------------------------------------------------------------------------+\n",
            "| Processes:                                                                  |\n",
            "|  GPU   GI   CI        PID   Type   Process name                  GPU Memory |\n",
            "|        ID   ID                                                   Usage      |\n",
            "|=============================================================================|\n",
            "|  No running processes found                                                 |\n",
            "+-----------------------------------------------------------------------------+\n"
          ],
          "name": "stdout"
        }
      ]
    },
    {
      "cell_type": "code",
      "metadata": {
        "id": "rQAggd-btWJK",
        "colab_type": "code",
        "colab": {
          "base_uri": "https://localhost:8080/",
          "height": 129
        },
        "outputId": "447b3636-23f7-43ef-fdbc-1c8342878483"
      },
      "source": [
        "## This is so that I can save my models.\n",
        "from google.colab import drive\n",
        "drive.mount('gdrive')"
      ],
      "execution_count": 2,
      "outputs": [
        {
          "output_type": "stream",
          "text": [
            "Go to this URL in a browser: https://accounts.google.com/o/oauth2/auth?client_id=947318989803-6bn6qk8qdgf4n4g3pfee6491hc0brc4i.apps.googleusercontent.com&redirect_uri=urn%3aietf%3awg%3aoauth%3a2.0%3aoob&response_type=code&scope=email%20https%3a%2f%2fwww.googleapis.com%2fauth%2fdocs.test%20https%3a%2f%2fwww.googleapis.com%2fauth%2fdrive%20https%3a%2f%2fwww.googleapis.com%2fauth%2fdrive.photos.readonly%20https%3a%2f%2fwww.googleapis.com%2fauth%2fpeopleapi.readonly\n",
            "\n",
            "Enter your authorization code:\n",
            "··········\n",
            "Mounted at gdrive\n"
          ],
          "name": "stdout"
        }
      ]
    },
    {
      "cell_type": "code",
      "metadata": {
        "id": "sAZBTFNQq0ys",
        "colab_type": "code",
        "colab": {}
      },
      "source": [
        "%%capture\n",
        "!pip install wandb"
      ],
      "execution_count": 3,
      "outputs": []
    },
    {
      "cell_type": "code",
      "metadata": {
        "id": "9-APP7-6C5uK",
        "colab_type": "code",
        "colab": {}
      },
      "source": [
        "import tensorflow as tf\n",
        "\n",
        "from tensorflow import keras\n",
        "from tensorflow.keras.datasets import cifar10\n",
        "from tensorflow.keras.applications import resnet50\n",
        "\n",
        "import tensorflow_addons as tfa"
      ],
      "execution_count": 4,
      "outputs": []
    },
    {
      "cell_type": "code",
      "metadata": {
        "id": "3Pr3HrMxq8SF",
        "colab_type": "code",
        "colab": {}
      },
      "source": [
        "import os\n",
        "os.environ[\"TF_DETERMINISTIC_OPS\"] = \"1\"\n",
        "import time\n",
        "\n",
        "import numpy as np\n",
        "import pandas as pd\n",
        "import matplotlib.pyplot as plt\n",
        "\n",
        "%matplotlib inline\n",
        "\n",
        "import io\n",
        "import itertools\n",
        "from sklearn.metrics import confusion_matrix"
      ],
      "execution_count": 5,
      "outputs": []
    },
    {
      "cell_type": "code",
      "metadata": {
        "id": "XmVkQbw_q_07",
        "colab_type": "code",
        "colab": {
          "base_uri": "https://localhost:8080/",
          "height": 108
        },
        "outputId": "13fc5643-e8f1-41a4-c894-87396013216b"
      },
      "source": [
        "import wandb\n",
        "from wandb.keras import WandbCallback\n",
        "\n",
        "wandb.login()"
      ],
      "execution_count": 6,
      "outputs": [
        {
          "output_type": "display_data",
          "data": {
            "application/javascript": [
              "\n",
              "        window._wandbApiKey = new Promise((resolve, reject) => {\n",
              "            function loadScript(url) {\n",
              "            return new Promise(function(resolve, reject) {\n",
              "                let newScript = document.createElement(\"script\");\n",
              "                newScript.onerror = reject;\n",
              "                newScript.onload = resolve;\n",
              "                document.body.appendChild(newScript);\n",
              "                newScript.src = url;\n",
              "            });\n",
              "            }\n",
              "            loadScript(\"https://cdn.jsdelivr.net/npm/postmate/build/postmate.min.js\").then(() => {\n",
              "            const iframe = document.createElement('iframe')\n",
              "            iframe.style.cssText = \"width:0;height:0;border:none\"\n",
              "            document.body.appendChild(iframe)\n",
              "            const handshake = new Postmate({\n",
              "                container: iframe,\n",
              "                url: 'https://app.wandb.ai/authorize'\n",
              "            });\n",
              "            const timeout = setTimeout(() => reject(\"Couldn't auto authenticate\"), 5000)\n",
              "            handshake.then(function(child) {\n",
              "                child.on('authorize', data => {\n",
              "                    clearTimeout(timeout)\n",
              "                    resolve(data)\n",
              "                });\n",
              "            });\n",
              "            })\n",
              "        });\n",
              "    "
            ],
            "text/plain": [
              "<IPython.core.display.Javascript object>"
            ]
          },
          "metadata": {
            "tags": []
          }
        },
        {
          "output_type": "stream",
          "text": [
            "\u001b[34m\u001b[1mwandb\u001b[0m: \u001b[32m\u001b[41mERROR\u001b[0m Not authenticated.  Copy a key from https://app.wandb.ai/authorize\n"
          ],
          "name": "stderr"
        },
        {
          "output_type": "stream",
          "text": [
            "API Key: ··········\n"
          ],
          "name": "stdout"
        },
        {
          "output_type": "stream",
          "text": [
            "\u001b[34m\u001b[1mwandb\u001b[0m: Appending key for api.wandb.ai to your netrc file: /root/.netrc\n"
          ],
          "name": "stderr"
        },
        {
          "output_type": "execute_result",
          "data": {
            "text/plain": [
              "True"
            ]
          },
          "metadata": {
            "tags": []
          },
          "execution_count": 6
        }
      ]
    },
    {
      "cell_type": "markdown",
      "metadata": {
        "id": "M3Ln8W0Aru8X",
        "colab_type": "text"
      },
      "source": [
        "# Download and Prepare Dataset"
      ]
    },
    {
      "cell_type": "markdown",
      "metadata": {
        "id": "LMFYLweasySz",
        "colab_type": "text"
      },
      "source": [
        "#### CIFAR-10"
      ]
    },
    {
      "cell_type": "code",
      "metadata": {
        "id": "Posjlu7lDJBd",
        "colab_type": "code",
        "colab": {
          "base_uri": "https://localhost:8080/",
          "height": 72
        },
        "outputId": "e89efe1d-0fff-479e-91a1-787e1e773f5b"
      },
      "source": [
        "(x_train, y_train), (x_test, y_test) = cifar10.load_data()\n",
        "\n",
        "CLASS_NAMES = (\"airplane\", \"automobile\", \"bird\", \"cat\", \"deer\", \"dog\", \"frog\", \"horse\", \"ship\", \"truck\")\n",
        "print(x_train.shape, y_train.shape, x_test.shape, y_test.shape)"
      ],
      "execution_count": 7,
      "outputs": [
        {
          "output_type": "stream",
          "text": [
            "Downloading data from https://www.cs.toronto.edu/~kriz/cifar-10-python.tar.gz\n",
            "170500096/170498071 [==============================] - 2s 0us/step\n",
            "(50000, 32, 32, 3) (50000, 1) (10000, 32, 32, 3) (10000, 1)\n"
          ],
          "name": "stdout"
        }
      ]
    },
    {
      "cell_type": "markdown",
      "metadata": {
        "id": "QZzY01xwxS-f",
        "colab_type": "text"
      },
      "source": [
        "#### Dataloader"
      ]
    },
    {
      "cell_type": "code",
      "metadata": {
        "id": "6TqcgM67xxDF",
        "colab_type": "code",
        "colab": {}
      },
      "source": [
        "AUTO = tf.data.experimental.AUTOTUNE\n",
        "BATCH_SIZE = 128\n",
        "IMG_SHAPE = 32\n",
        "\n",
        "trainloader = tf.data.Dataset.from_tensor_slices((x_train, y_train))\n",
        "testloader = tf.data.Dataset.from_tensor_slices((x_test, y_test))\n",
        "\n",
        "def preprocess_image(image, label):\n",
        "  img = tf.cast(image, tf.float32)\n",
        "  img = img/255.\n",
        "\n",
        "  return img, label\n",
        "\n",
        "trainloader = (\n",
        "    trainloader\n",
        "    .shuffle(1024)\n",
        "    .map(preprocess_image, num_parallel_calls=AUTO)\n",
        "    .batch(BATCH_SIZE)\n",
        "    .prefetch(AUTO)\n",
        ")\n",
        "\n",
        "testloader = (\n",
        "    testloader\n",
        "    .map(preprocess_image, num_parallel_calls=AUTO)\n",
        "    .batch(BATCH_SIZE)\n",
        "    .prefetch(AUTO)\n",
        ")"
      ],
      "execution_count": 8,
      "outputs": []
    },
    {
      "cell_type": "markdown",
      "metadata": {
        "id": "W2xrs00QuVG3",
        "colab_type": "text"
      },
      "source": [
        "# Model"
      ]
    },
    {
      "cell_type": "code",
      "metadata": {
        "id": "_Pv7-2VNsb5N",
        "colab_type": "code",
        "colab": {}
      },
      "source": [
        "def Model():\n",
        "  inputs = keras.layers.Input(shape=(IMG_SHAPE, IMG_SHAPE, 3))\n",
        "\n",
        "  x = keras.layers.Conv2D(16, (3,3), padding='same')(inputs)\n",
        "  x = keras.activations.relu(x)\n",
        "  x = keras.layers.MaxPooling2D(2, strides=2)(x)\n",
        "\n",
        "  x = keras.layers.Conv2D(32,(3,3), padding='same')(x)\n",
        "  x = keras.activations.relu(x)\n",
        "  x = keras.layers.MaxPooling2D(2, strides=2)(x)\n",
        "\n",
        "  x = keras.layers.Conv2D(32,(3,3), padding='same')(x)\n",
        "  x = keras.activations.relu(x)\n",
        "  x = keras.layers.MaxPooling2D(2, strides=2)(x)\n",
        "\n",
        "  x = keras.layers.GlobalAveragePooling2D()(x)\n",
        "  x = keras.layers.Dense(32, activation='relu')(x)\n",
        "  x = keras.layers.Dropout(0.1)(x)\n",
        "  \n",
        "  outputs = keras.layers.Dense(10, activation='softmax')(x)\n",
        "\n",
        "  return keras.models.Model(inputs=inputs, outputs=outputs)"
      ],
      "execution_count": 9,
      "outputs": []
    },
    {
      "cell_type": "code",
      "metadata": {
        "id": "o9A69Z8kgBks",
        "colab_type": "code",
        "colab": {
          "base_uri": "https://localhost:8080/",
          "height": 1000
        },
        "outputId": "2f3479ab-7a42-4e01-f2fe-56fccee83802"
      },
      "source": [
        "tf.keras.backend.clear_session()\n",
        "model = Model()\n",
        "\n",
        "tf.keras.utils.plot_model(\n",
        "    model, to_file='small_cnn.png', show_shapes=True, show_layer_names=True, dpi=65\n",
        ")"
      ],
      "execution_count": 10,
      "outputs": [
        {
          "output_type": "execute_result",
          "data": {
            "image/png": "[encoded data removed]",
            "text/plain": [
              "<IPython.core.display.Image object>"
            ]
          },
          "metadata": {
            "tags": []
          },
          "execution_count": 10
        }
      ]
    },
    {
      "cell_type": "markdown",
      "metadata": {
        "id": "nkxDAl8pv5pJ",
        "colab_type": "text"
      },
      "source": [
        "# Callbacks"
      ]
    },
    {
      "cell_type": "markdown",
      "metadata": {
        "id": "B13auR7gDEao",
        "colab_type": "text"
      },
      "source": [
        "#### LR Scheduler"
      ]
    },
    {
      "cell_type": "code",
      "metadata": {
        "id": "j4WY47Kxv8uN",
        "colab_type": "code",
        "colab": {}
      },
      "source": [
        "# Custom LR schedule as mentioned in the LossLandscape paper\n",
        "LR_SCHEDULE = [\n",
        "    # (epoch to start, learning rate) tuples\n",
        "    (0, 1.6*1e-3),\n",
        "    (9, (1.6*1e-3)/2),\n",
        "    (19, (1.6*1e-3)/4),\n",
        "    (29, (1.6*1e-3)/8),\n",
        "]\n",
        "\n",
        "def lr_schedule(epoch):\n",
        "    if (epoch >= 0) & (epoch < 9):\n",
        "        return LR_SCHEDULE[0][1]\n",
        "    elif (epoch >= 9) & (epoch < 19):\n",
        "        return LR_SCHEDULE[1][1]\n",
        "    elif (epoch >= 19) & (epoch < 29):\n",
        "        return LR_SCHEDULE[2][1]\n",
        "    else:\n",
        "        return LR_SCHEDULE[3][1]\n",
        "\n",
        "lr_callback = tf.keras.callbacks.LearningRateScheduler(lambda epoch: lr_schedule(epoch), verbose=True)"
      ],
      "execution_count": 11,
      "outputs": []
    },
    {
      "cell_type": "markdown",
      "metadata": {
        "id": "SWDf_SqVDHUo",
        "colab_type": "text"
      },
      "source": [
        "#### Model Checkpoint"
      ]
    },
    {
      "cell_type": "code",
      "metadata": {
        "id": "Kjb25zUM-2wu",
        "colab_type": "code",
        "colab": {}
      },
      "source": [
        "SAVE_PATH = 'gdrive/My Drive/LossLandscape/SmallCNN_CheckpointID_1/'"
      ],
      "execution_count": 12,
      "outputs": []
    },
    {
      "cell_type": "code",
      "metadata": {
        "id": "48WXaSSx4hAF",
        "colab_type": "code",
        "colab": {}
      },
      "source": [
        "def save_model(epoch, logs):\n",
        "  model.save(SAVE_PATH+'small_cnn_checkpoint_{}.h5'.format(epoch))\n",
        "\n",
        "save_callback = tf.keras.callbacks.LambdaCallback(on_epoch_end=save_model, verbose=True)"
      ],
      "execution_count": 13,
      "outputs": []
    },
    {
      "cell_type": "markdown",
      "metadata": {
        "id": "3uFUQVJqlLiO",
        "colab_type": "text"
      },
      "source": [
        "#### Confusion Matrix"
      ]
    },
    {
      "cell_type": "code",
      "metadata": {
        "id": "uoypfkx7lOYd",
        "colab_type": "code",
        "colab": {}
      },
      "source": [
        "def plot_confusion_matrix(cm, class_names):\n",
        "    figure = plt.figure(figsize=(8, 8))\n",
        "    plt.imshow(cm, interpolation='nearest', cmap=plt.cm.Blues)\n",
        "    plt.title(\"Confusion matrix\")\n",
        "    plt.colorbar()\n",
        "    tick_marks = np.arange(len(class_names))\n",
        "    plt.xticks(tick_marks, class_names, rotation=45)\n",
        "    plt.yticks(tick_marks, class_names)\n",
        "\n",
        "    # Normalize the confusion matrix.\n",
        "    cm = np.around(cm.astype('float') / cm.sum(axis=1)[:, np.newaxis], decimals=2)\n",
        "\n",
        "    # Use white text if squares are dark; otherwise black.\n",
        "    threshold = cm.max() / 2.\n",
        "    for i, j in itertools.product(range(cm.shape[0]), range(cm.shape[1])):\n",
        "        color = \"white\" if cm[i, j] > threshold else \"black\"\n",
        "        plt.text(j, i, cm[i, j], horizontalalignment=\"center\", color=color)\n",
        "\n",
        "    plt.tight_layout()\n",
        "    plt.ylabel('True label')\n",
        "    plt.xlabel('Predicted label')\n",
        "    \n",
        "    return figure\n",
        "\n",
        "def plot_to_image(figure):\n",
        "    \"\"\"Converts the matplotlib plot specified by 'figure' to a PNG image and\n",
        "    returns it. The supplied figure is closed and inaccessible after this call.\"\"\"\n",
        "    # Save the plot to a PNG in memory.\n",
        "    buf = io.BytesIO()\n",
        "    plt.savefig(buf, format='png')\n",
        "    # Closing the figure prevents it from being displayed directly inside\n",
        "    # the notebook.\n",
        "    plt.close(figure)\n",
        "    buf.seek(0)\n",
        "    # Convert PNG buffer to TF image\n",
        "    image = tf.image.decode_png(buf.getvalue(), channels=3)\n",
        "    # Convert back to NumPy\n",
        "    image = image.numpy()\n",
        "    return image\n",
        "\n",
        "def log_confusion_matrix(epoch, logs):\n",
        "    # Use the model to predict the values from the validation dataset\n",
        "    test_pred_raw = model.predict(x_test)\n",
        "    test_pred = np.argmax(test_pred_raw, axis=1)\n",
        "\n",
        "    # Calculate the confusion matrix\n",
        "    cm = confusion_matrix(y_test, test_pred)\n",
        "    # Log the confusion matrix as an image to wandb\n",
        "    figure = plot_confusion_matrix(cm, class_names=CLASS_NAMES)\n",
        "    cm_image = plot_to_image(figure)\n",
        "    wandb.log({'confusion_matrix': wandb.Image(cm_image)})\n",
        "\n",
        "cm_callback = tf.keras.callbacks.LambdaCallback(on_epoch_end=log_confusion_matrix, verbose=True)"
      ],
      "execution_count": 14,
      "outputs": []
    },
    {
      "cell_type": "markdown",
      "metadata": {
        "id": "Q02l2PnW4YMh",
        "colab_type": "text"
      },
      "source": [
        "# Initialize Model"
      ]
    },
    {
      "cell_type": "code",
      "metadata": {
        "id": "b7NGdxodMYP3",
        "colab_type": "code",
        "colab": {
          "base_uri": "https://localhost:8080/",
          "height": 678
        },
        "outputId": "07184bc7-bb7e-407b-e0f2-9fa749123a6a"
      },
      "source": [
        "keras.backend.clear_session()\n",
        "model = Model()\n",
        "model.summary()"
      ],
      "execution_count": 15,
      "outputs": [
        {
          "output_type": "stream",
          "text": [
            "Model: \"model\"\n",
            "_________________________________________________________________\n",
            "Layer (type)                 Output Shape              Param #   \n",
            "=================================================================\n",
            "input_1 (InputLayer)         [(None, 32, 32, 3)]       0         \n",
            "_________________________________________________________________\n",
            "conv2d (Conv2D)              (None, 32, 32, 16)        448       \n",
            "_________________________________________________________________\n",
            "tf_op_layer_Relu (TensorFlow [(None, 32, 32, 16)]      0         \n",
            "_________________________________________________________________\n",
            "max_pooling2d (MaxPooling2D) (None, 16, 16, 16)        0         \n",
            "_________________________________________________________________\n",
            "conv2d_1 (Conv2D)            (None, 16, 16, 32)        4640      \n",
            "_________________________________________________________________\n",
            "tf_op_layer_Relu_1 (TensorFl [(None, 16, 16, 32)]      0         \n",
            "_________________________________________________________________\n",
            "max_pooling2d_1 (MaxPooling2 (None, 8, 8, 32)          0         \n",
            "_________________________________________________________________\n",
            "conv2d_2 (Conv2D)            (None, 8, 8, 32)          9248      \n",
            "_________________________________________________________________\n",
            "tf_op_layer_Relu_2 (TensorFl [(None, 8, 8, 32)]        0         \n",
            "_________________________________________________________________\n",
            "max_pooling2d_2 (MaxPooling2 (None, 4, 4, 32)          0         \n",
            "_________________________________________________________________\n",
            "global_average_pooling2d (Gl (None, 32)                0         \n",
            "_________________________________________________________________\n",
            "dense (Dense)                (None, 32)                1056      \n",
            "_________________________________________________________________\n",
            "dropout (Dropout)            (None, 32)                0         \n",
            "_________________________________________________________________\n",
            "dense_1 (Dense)              (None, 10)                330       \n",
            "=================================================================\n",
            "Total params: 15,722\n",
            "Trainable params: 15,722\n",
            "Non-trainable params: 0\n",
            "_________________________________________________________________\n"
          ],
          "name": "stdout"
        }
      ]
    },
    {
      "cell_type": "markdown",
      "metadata": {
        "id": "DqiY2v174cCw",
        "colab_type": "text"
      },
      "source": [
        "# Compile"
      ]
    },
    {
      "cell_type": "code",
      "metadata": {
        "id": "M7Vk7qmEMgeB",
        "colab_type": "code",
        "colab": {}
      },
      "source": [
        "model.compile('adam', 'sparse_categorical_crossentropy', metrics=['accuracy'])"
      ],
      "execution_count": 16,
      "outputs": []
    },
    {
      "cell_type": "markdown",
      "metadata": {
        "id": "XP5elumu4eJG",
        "colab_type": "text"
      },
      "source": [
        "# Wandb Init"
      ]
    },
    {
      "cell_type": "code",
      "metadata": {
        "id": "Svw-ocG_yeGx",
        "colab_type": "code",
        "colab": {
          "base_uri": "https://localhost:8080/",
          "height": 87
        },
        "outputId": "070c793a-2204-47c8-914a-27c6b0397ef9"
      },
      "source": [
        "wandb.init(entity='authors', project='loss-landscape')"
      ],
      "execution_count": 17,
      "outputs": [
        {
          "output_type": "display_data",
          "data": {
            "text/html": [
              "\n",
              "                Logging results to <a href=\"https://wandb.com\" target=\"_blank\">Weights & Biases</a> <a href=\"https://docs.wandb.com/integrations/jupyter.html\" target=\"_blank\">(Documentation)</a>.<br/>\n",
              "                Project page: <a href=\"https://app.wandb.ai/authors/loss-landscape\" target=\"_blank\">https://app.wandb.ai/authors/loss-landscape</a><br/>\n",
              "                Run page: <a href=\"https://app.wandb.ai/authors/loss-landscape/runs/2uk6rvlj\" target=\"_blank\">https://app.wandb.ai/authors/loss-landscape/runs/2uk6rvlj</a><br/>\n",
              "            "
            ],
            "text/plain": [
              "<IPython.core.display.HTML object>"
            ]
          },
          "metadata": {
            "tags": []
          }
        },
        {
          "output_type": "execute_result",
          "data": {
            "text/plain": [
              "W&B Run: https://app.wandb.ai/authors/loss-landscape/runs/2uk6rvlj"
            ]
          },
          "metadata": {
            "tags": []
          },
          "execution_count": 17
        }
      ]
    },
    {
      "cell_type": "markdown",
      "metadata": {
        "id": "co0IcwRl4goi",
        "colab_type": "text"
      },
      "source": [
        "# Train"
      ]
    },
    {
      "cell_type": "code",
      "metadata": {
        "id": "_Mqy_ZBNM8UA",
        "colab_type": "code",
        "colab": {
          "base_uri": "https://localhost:8080/",
          "height": 1000
        },
        "outputId": "8acb3587-d4e6-4750-d189-85996a06a09f"
      },
      "source": [
        "EPOCHS = 40\n",
        "\n",
        "start = time.time()\n",
        "_ = model.fit(trainloader,\n",
        "          epochs=EPOCHS,\n",
        "          validation_data=testloader,\n",
        "          callbacks=[WandbCallback(),\n",
        "                     lr_callback,\n",
        "                     cm_callback,\n",
        "                     save_callback])\n",
        "end = time.time()\n",
        "print(\"Network takes {:.3f} seconds to train\".format(end - start))\n",
        "wandb.log({'training_time': end - start})\n",
        "wandb.log({'nb_model_params': model.count_params()})"
      ],
      "execution_count": 18,
      "outputs": [
        {
          "output_type": "stream",
          "text": [
            "\n",
            "Epoch 00001: LearningRateScheduler reducing learning rate to 0.0016.\n",
            "Epoch 1/40\n",
            "391/391 [==============================] - 5s 13ms/step - loss: 1.9294 - accuracy: 0.2678 - val_loss: 1.6899 - val_accuracy: 0.3734 - lr: 0.0016\n",
            "\n",
            "Epoch 00002: LearningRateScheduler reducing learning rate to 0.0016.\n",
            "Epoch 2/40\n",
            "391/391 [==============================] - 4s 11ms/step - loss: 1.6630 - accuracy: 0.3756 - val_loss: 1.5472 - val_accuracy: 0.4207 - lr: 0.0016\n",
            "\n",
            "Epoch 00003: LearningRateScheduler reducing learning rate to 0.0016.\n",
            "Epoch 3/40\n",
            "391/391 [==============================] - 4s 11ms/step - loss: 1.5473 - accuracy: 0.4216 - val_loss: 1.4728 - val_accuracy: 0.4581 - lr: 0.0016\n",
            "\n",
            "Epoch 00004: LearningRateScheduler reducing learning rate to 0.0016.\n",
            "Epoch 4/40\n",
            "391/391 [==============================] - 4s 11ms/step - loss: 1.4598 - accuracy: 0.4603 - val_loss: 1.3722 - val_accuracy: 0.4964 - lr: 0.0016\n",
            "\n",
            "Epoch 00005: LearningRateScheduler reducing learning rate to 0.0016.\n",
            "Epoch 5/40\n",
            "391/391 [==============================] - 4s 11ms/step - loss: 1.3848 - accuracy: 0.4920 - val_loss: 1.2988 - val_accuracy: 0.5240 - lr: 0.0016\n",
            "\n",
            "Epoch 00006: LearningRateScheduler reducing learning rate to 0.0016.\n",
            "Epoch 6/40\n",
            "391/391 [==============================] - 4s 11ms/step - loss: 1.3275 - accuracy: 0.5122 - val_loss: 1.2599 - val_accuracy: 0.5406 - lr: 0.0016\n",
            "\n",
            "Epoch 00007: LearningRateScheduler reducing learning rate to 0.0016.\n",
            "Epoch 7/40\n",
            "391/391 [==============================] - 4s 11ms/step - loss: 1.2872 - accuracy: 0.5304 - val_loss: 1.2389 - val_accuracy: 0.5546 - lr: 0.0016\n",
            "\n",
            "Epoch 00008: LearningRateScheduler reducing learning rate to 0.0016.\n",
            "Epoch 8/40\n",
            "391/391 [==============================] - 4s 11ms/step - loss: 1.2547 - accuracy: 0.5407 - val_loss: 1.2000 - val_accuracy: 0.5664 - lr: 0.0016\n",
            "\n",
            "Epoch 00009: LearningRateScheduler reducing learning rate to 0.0016.\n",
            "Epoch 9/40\n",
            "391/391 [==============================] - 4s 11ms/step - loss: 1.2214 - accuracy: 0.5530 - val_loss: 1.1735 - val_accuracy: 0.5722 - lr: 0.0016\n",
            "\n",
            "Epoch 00010: LearningRateScheduler reducing learning rate to 0.0008.\n",
            "Epoch 10/40\n",
            "391/391 [==============================] - 4s 11ms/step - loss: 1.1728 - accuracy: 0.5718 - val_loss: 1.1329 - val_accuracy: 0.5911 - lr: 8.0000e-04\n",
            "\n",
            "Epoch 00011: LearningRateScheduler reducing learning rate to 0.0008.\n",
            "Epoch 11/40\n",
            "391/391 [==============================] - 4s 11ms/step - loss: 1.1567 - accuracy: 0.5790 - val_loss: 1.1178 - val_accuracy: 0.5980 - lr: 8.0000e-04\n",
            "\n",
            "Epoch 00012: LearningRateScheduler reducing learning rate to 0.0008.\n",
            "Epoch 12/40\n",
            "391/391 [==============================] - 4s 10ms/step - loss: 1.1404 - accuracy: 0.5866 - val_loss: 1.1303 - val_accuracy: 0.5888 - lr: 8.0000e-04\n",
            "\n",
            "Epoch 00013: LearningRateScheduler reducing learning rate to 0.0008.\n",
            "Epoch 13/40\n",
            "391/391 [==============================] - 4s 11ms/step - loss: 1.1253 - accuracy: 0.5937 - val_loss: 1.1109 - val_accuracy: 0.5998 - lr: 8.0000e-04\n",
            "\n",
            "Epoch 00014: LearningRateScheduler reducing learning rate to 0.0008.\n",
            "Epoch 14/40\n",
            "391/391 [==============================] - 4s 11ms/step - loss: 1.1121 - accuracy: 0.5970 - val_loss: 1.0868 - val_accuracy: 0.6060 - lr: 8.0000e-04\n",
            "\n",
            "Epoch 00015: LearningRateScheduler reducing learning rate to 0.0008.\n",
            "Epoch 15/40\n",
            "391/391 [==============================] - 4s 10ms/step - loss: 1.1061 - accuracy: 0.5985 - val_loss: 1.0772 - val_accuracy: 0.6127 - lr: 8.0000e-04\n",
            "\n",
            "Epoch 00016: LearningRateScheduler reducing learning rate to 0.0008.\n",
            "Epoch 16/40\n",
            "391/391 [==============================] - 4s 11ms/step - loss: 1.0833 - accuracy: 0.6115 - val_loss: 1.0721 - val_accuracy: 0.6143 - lr: 8.0000e-04\n",
            "\n",
            "Epoch 00017: LearningRateScheduler reducing learning rate to 0.0008.\n",
            "Epoch 17/40\n",
            "391/391 [==============================] - 4s 11ms/step - loss: 1.0769 - accuracy: 0.6129 - val_loss: 1.0744 - val_accuracy: 0.6096 - lr: 8.0000e-04\n",
            "\n",
            "Epoch 00018: LearningRateScheduler reducing learning rate to 0.0008.\n",
            "Epoch 18/40\n",
            "391/391 [==============================] - 4s 11ms/step - loss: 1.0637 - accuracy: 0.6168 - val_loss: 1.0706 - val_accuracy: 0.6088 - lr: 8.0000e-04\n",
            "\n",
            "Epoch 00019: LearningRateScheduler reducing learning rate to 0.0008.\n",
            "Epoch 19/40\n",
            "391/391 [==============================] - 4s 11ms/step - loss: 1.0532 - accuracy: 0.6202 - val_loss: 1.0544 - val_accuracy: 0.6224 - lr: 8.0000e-04\n",
            "\n",
            "Epoch 00020: LearningRateScheduler reducing learning rate to 0.0004.\n",
            "Epoch 20/40\n",
            "391/391 [==============================] - 4s 11ms/step - loss: 1.0308 - accuracy: 0.6306 - val_loss: 1.0353 - val_accuracy: 0.6287 - lr: 4.0000e-04\n",
            "\n",
            "Epoch 00021: LearningRateScheduler reducing learning rate to 0.0004.\n",
            "Epoch 21/40\n",
            "391/391 [==============================] - 4s 11ms/step - loss: 1.0233 - accuracy: 0.6314 - val_loss: 1.0220 - val_accuracy: 0.6326 - lr: 4.0000e-04\n",
            "\n",
            "Epoch 00022: LearningRateScheduler reducing learning rate to 0.0004.\n",
            "Epoch 22/40\n",
            "391/391 [==============================] - 4s 11ms/step - loss: 1.0157 - accuracy: 0.6347 - val_loss: 1.0197 - val_accuracy: 0.6307 - lr: 4.0000e-04\n",
            "\n",
            "Epoch 00023: LearningRateScheduler reducing learning rate to 0.0004.\n",
            "Epoch 23/40\n",
            "391/391 [==============================] - 4s 11ms/step - loss: 1.0123 - accuracy: 0.6369 - val_loss: 1.0337 - val_accuracy: 0.6307 - lr: 4.0000e-04\n",
            "\n",
            "Epoch 00024: LearningRateScheduler reducing learning rate to 0.0004.\n",
            "Epoch 24/40\n",
            "391/391 [==============================] - 4s 11ms/step - loss: 1.0079 - accuracy: 0.6391 - val_loss: 1.0065 - val_accuracy: 0.6412 - lr: 4.0000e-04\n",
            "\n",
            "Epoch 00025: LearningRateScheduler reducing learning rate to 0.0004.\n",
            "Epoch 25/40\n",
            "391/391 [==============================] - 4s 11ms/step - loss: 1.0018 - accuracy: 0.6426 - val_loss: 1.0014 - val_accuracy: 0.6433 - lr: 4.0000e-04\n",
            "\n",
            "Epoch 00026: LearningRateScheduler reducing learning rate to 0.0004.\n",
            "Epoch 26/40\n",
            "391/391 [==============================] - 4s 10ms/step - loss: 0.9972 - accuracy: 0.6414 - val_loss: 1.0057 - val_accuracy: 0.6407 - lr: 4.0000e-04\n",
            "\n",
            "Epoch 00027: LearningRateScheduler reducing learning rate to 0.0004.\n",
            "Epoch 27/40\n",
            "391/391 [==============================] - 4s 10ms/step - loss: 0.9943 - accuracy: 0.6411 - val_loss: 1.0006 - val_accuracy: 0.6416 - lr: 4.0000e-04\n",
            "\n",
            "Epoch 00028: LearningRateScheduler reducing learning rate to 0.0004.\n",
            "Epoch 28/40\n",
            "391/391 [==============================] - 4s 11ms/step - loss: 0.9881 - accuracy: 0.6446 - val_loss: 1.0002 - val_accuracy: 0.6420 - lr: 4.0000e-04\n",
            "\n",
            "Epoch 00029: LearningRateScheduler reducing learning rate to 0.0004.\n",
            "Epoch 29/40\n",
            "391/391 [==============================] - 4s 11ms/step - loss: 0.9864 - accuracy: 0.6471 - val_loss: 0.9959 - val_accuracy: 0.6443 - lr: 4.0000e-04\n",
            "\n",
            "Epoch 00030: LearningRateScheduler reducing learning rate to 0.0002.\n",
            "Epoch 30/40\n",
            "391/391 [==============================] - 4s 11ms/step - loss: 0.9699 - accuracy: 0.6522 - val_loss: 0.9925 - val_accuracy: 0.6469 - lr: 2.0000e-04\n",
            "\n",
            "Epoch 00031: LearningRateScheduler reducing learning rate to 0.0002.\n",
            "Epoch 31/40\n",
            "391/391 [==============================] - 4s 11ms/step - loss: 0.9693 - accuracy: 0.6525 - val_loss: 0.9817 - val_accuracy: 0.6516 - lr: 2.0000e-04\n",
            "\n",
            "Epoch 00032: LearningRateScheduler reducing learning rate to 0.0002.\n",
            "Epoch 32/40\n",
            "391/391 [==============================] - 4s 11ms/step - loss: 0.9651 - accuracy: 0.6528 - val_loss: 0.9874 - val_accuracy: 0.6485 - lr: 2.0000e-04\n",
            "\n",
            "Epoch 00033: LearningRateScheduler reducing learning rate to 0.0002.\n",
            "Epoch 33/40\n",
            "391/391 [==============================] - 4s 11ms/step - loss: 0.9609 - accuracy: 0.6554 - val_loss: 0.9891 - val_accuracy: 0.6449 - lr: 2.0000e-04\n",
            "\n",
            "Epoch 00034: LearningRateScheduler reducing learning rate to 0.0002.\n",
            "Epoch 34/40\n",
            "391/391 [==============================] - 4s 11ms/step - loss: 0.9620 - accuracy: 0.6551 - val_loss: 0.9802 - val_accuracy: 0.6498 - lr: 2.0000e-04\n",
            "\n",
            "Epoch 00035: LearningRateScheduler reducing learning rate to 0.0002.\n",
            "Epoch 35/40\n",
            "391/391 [==============================] - 4s 11ms/step - loss: 0.9569 - accuracy: 0.6574 - val_loss: 0.9775 - val_accuracy: 0.6513 - lr: 2.0000e-04\n",
            "\n",
            "Epoch 00036: LearningRateScheduler reducing learning rate to 0.0002.\n",
            "Epoch 36/40\n",
            "391/391 [==============================] - 4s 11ms/step - loss: 0.9582 - accuracy: 0.6574 - val_loss: 0.9881 - val_accuracy: 0.6490 - lr: 2.0000e-04\n",
            "\n",
            "Epoch 00037: LearningRateScheduler reducing learning rate to 0.0002.\n",
            "Epoch 37/40\n",
            "391/391 [==============================] - 4s 11ms/step - loss: 0.9553 - accuracy: 0.6577 - val_loss: 0.9823 - val_accuracy: 0.6492 - lr: 2.0000e-04\n",
            "\n",
            "Epoch 00038: LearningRateScheduler reducing learning rate to 0.0002.\n",
            "Epoch 38/40\n",
            "391/391 [==============================] - 4s 11ms/step - loss: 0.9500 - accuracy: 0.6594 - val_loss: 0.9724 - val_accuracy: 0.6532 - lr: 2.0000e-04\n",
            "\n",
            "Epoch 00039: LearningRateScheduler reducing learning rate to 0.0002.\n",
            "Epoch 39/40\n",
            "391/391 [==============================] - 4s 11ms/step - loss: 0.9546 - accuracy: 0.6582 - val_loss: 0.9828 - val_accuracy: 0.6483 - lr: 2.0000e-04\n",
            "\n",
            "Epoch 00040: LearningRateScheduler reducing learning rate to 0.0002.\n",
            "Epoch 40/40\n",
            "391/391 [==============================] - 4s 11ms/step - loss: 0.9495 - accuracy: 0.6595 - val_loss: 0.9739 - val_accuracy: 0.6535 - lr: 2.0000e-04\n",
            "Network takes 178.953 seconds to train\n"
          ],
          "name": "stdout"
        }
      ]
    },
    {
      "cell_type": "markdown",
      "metadata": {
        "id": "zKv6UHqM1I3Q",
        "colab_type": "text"
      },
      "source": [
        "# Evaluate"
      ]
    },
    {
      "cell_type": "code",
      "metadata": {
        "id": "SO_E5WFAclHA",
        "colab_type": "code",
        "colab": {
          "base_uri": "https://localhost:8080/",
          "height": 54
        },
        "outputId": "e33dbf9d-a748-4174-8fcd-149c8c5afec7"
      },
      "source": [
        "loss, accuracy = model.evaluate(testloader, callbacks=[WandbCallback()])\n",
        "print(\"Test Error Rate: \", round((1-accuracy)*100, 2), '%')\n",
        "wandb.log({'Test Error Rate': round((1-accuracy)*100, 2)})"
      ],
      "execution_count": 19,
      "outputs": [
        {
          "output_type": "stream",
          "text": [
            "79/79 [==============================] - 0s 5ms/step - loss: 0.9739 - accuracy: 0.6535\n",
            "Test Error Rate:  34.65 %\n"
          ],
          "name": "stdout"
        }
      ]
    },
    {
      "cell_type": "markdown",
      "metadata": {
        "id": "KLs22v6arEMo",
        "colab_type": "text"
      },
      "source": [
        "# Independent Solutions"
      ]
    },
    {
      "cell_type": "code",
      "metadata": {
        "id": "9wPswwrujNDe",
        "colab_type": "code",
        "colab": {
          "base_uri": "https://localhost:8080/",
          "height": 1000
        },
        "outputId": "26d3ffcd-8206-4167-ae11-3975b912a71e"
      },
      "source": [
        "# Saving 10 independent solutions i.e, 10 different inits.\n",
        "# Will save last model snapshot. \n",
        "\n",
        "EPOCHS = 40\n",
        "SAVE_PATH = 'gdrive/My Drive/LossLandscape/IndependentSolutions/'\n",
        "\n",
        "for iter in range(10):\n",
        "  # wandb init\n",
        "  wandb.init(entity='authors', project='loss-landscape', id=wandb.util.generate_id())\n",
        "  # initialize weights\n",
        "  keras.backend.clear_session()\n",
        "  model = Model()\n",
        "  # compile\n",
        "  model.compile('adam', 'sparse_categorical_crossentropy', metrics=['accuracy'])\n",
        "  # train\n",
        "  _ = model.fit(trainloader,\n",
        "              epochs=EPOCHS,\n",
        "              validation_data=testloader,\n",
        "              callbacks=[WandbCallback(),\n",
        "                        lr_callback],\n",
        "              verbose=0)\n",
        "  # save final model snapshot\n",
        "  model.save(SAVE_PATH+'smallcnn_independent_model_{}.h5'.format(iter))\n",
        "  # evaluate\n",
        "  loss, accuracy = model.evaluate(testloader, callbacks=[WandbCallback()], verbose=0)\n",
        "  print(\"Test Error Rate: \", round((1-accuracy)*100, 2), '% | Iteration No: ', iter)\n",
        "  wandb.log({'Test Error Rate': round((1-accuracy)*100, 2)})"
      ],
      "execution_count": 21,
      "outputs": [
        {
          "output_type": "display_data",
          "data": {
            "text/html": [
              "\n",
              "                Logging results to <a href=\"https://wandb.com\" target=\"_blank\">Weights & Biases</a> <a href=\"https://docs.wandb.com/integrations/jupyter.html\" target=\"_blank\">(Documentation)</a>.<br/>\n",
              "                Project page: <a href=\"https://app.wandb.ai/authors/loss-landscape\" target=\"_blank\">https://app.wandb.ai/authors/loss-landscape</a><br/>\n",
              "                Run page: <a href=\"https://app.wandb.ai/authors/loss-landscape/runs/28lasd3b\" target=\"_blank\">https://app.wandb.ai/authors/loss-landscape/runs/28lasd3b</a><br/>\n",
              "            "
            ],
            "text/plain": [
              "<IPython.core.display.HTML object>"
            ]
          },
          "metadata": {
            "tags": []
          }
        },
        {
          "output_type": "stream",
          "text": [
            "\n",
            "Epoch 00001: LearningRateScheduler reducing learning rate to 0.0016.\n",
            "\n",
            "Epoch 00002: LearningRateScheduler reducing learning rate to 0.0016.\n",
            "\n",
            "Epoch 00003: LearningRateScheduler reducing learning rate to 0.0016.\n",
            "\n",
            "Epoch 00004: LearningRateScheduler reducing learning rate to 0.0016.\n",
            "\n",
            "Epoch 00005: LearningRateScheduler reducing learning rate to 0.0016.\n",
            "\n",
            "Epoch 00006: LearningRateScheduler reducing learning rate to 0.0016.\n",
            "\n",
            "Epoch 00007: LearningRateScheduler reducing learning rate to 0.0016.\n",
            "\n",
            "Epoch 00008: LearningRateScheduler reducing learning rate to 0.0016.\n",
            "\n",
            "Epoch 00009: LearningRateScheduler reducing learning rate to 0.0016.\n",
            "\n",
            "Epoch 00010: LearningRateScheduler reducing learning rate to 0.0008.\n",
            "\n",
            "Epoch 00011: LearningRateScheduler reducing learning rate to 0.0008.\n",
            "\n",
            "Epoch 00012: LearningRateScheduler reducing learning rate to 0.0008.\n",
            "\n",
            "Epoch 00013: LearningRateScheduler reducing learning rate to 0.0008.\n",
            "\n",
            "Epoch 00014: LearningRateScheduler reducing learning rate to 0.0008.\n",
            "\n",
            "Epoch 00015: LearningRateScheduler reducing learning rate to 0.0008.\n",
            "\n",
            "Epoch 00016: LearningRateScheduler reducing learning rate to 0.0008.\n",
            "\n",
            "Epoch 00017: LearningRateScheduler reducing learning rate to 0.0008.\n",
            "\n",
            "Epoch 00018: LearningRateScheduler reducing learning rate to 0.0008.\n",
            "\n",
            "Epoch 00019: LearningRateScheduler reducing learning rate to 0.0008.\n",
            "\n",
            "Epoch 00020: LearningRateScheduler reducing learning rate to 0.0004.\n",
            "\n",
            "Epoch 00021: LearningRateScheduler reducing learning rate to 0.0004.\n",
            "\n",
            "Epoch 00022: LearningRateScheduler reducing learning rate to 0.0004.\n",
            "\n",
            "Epoch 00023: LearningRateScheduler reducing learning rate to 0.0004.\n",
            "\n",
            "Epoch 00024: LearningRateScheduler reducing learning rate to 0.0004.\n",
            "\n",
            "Epoch 00025: LearningRateScheduler reducing learning rate to 0.0004.\n",
            "\n",
            "Epoch 00026: LearningRateScheduler reducing learning rate to 0.0004.\n",
            "\n",
            "Epoch 00027: LearningRateScheduler reducing learning rate to 0.0004.\n",
            "\n",
            "Epoch 00028: LearningRateScheduler reducing learning rate to 0.0004.\n",
            "\n",
            "Epoch 00029: LearningRateScheduler reducing learning rate to 0.0004.\n",
            "\n",
            "Epoch 00030: LearningRateScheduler reducing learning rate to 0.0002.\n",
            "\n",
            "Epoch 00031: LearningRateScheduler reducing learning rate to 0.0002.\n",
            "\n",
            "Epoch 00032: LearningRateScheduler reducing learning rate to 0.0002.\n",
            "\n",
            "Epoch 00033: LearningRateScheduler reducing learning rate to 0.0002.\n",
            "\n",
            "Epoch 00034: LearningRateScheduler reducing learning rate to 0.0002.\n",
            "\n",
            "Epoch 00035: LearningRateScheduler reducing learning rate to 0.0002.\n",
            "\n",
            "Epoch 00036: LearningRateScheduler reducing learning rate to 0.0002.\n",
            "\n",
            "Epoch 00037: LearningRateScheduler reducing learning rate to 0.0002.\n",
            "\n",
            "Epoch 00038: LearningRateScheduler reducing learning rate to 0.0002.\n",
            "\n",
            "Epoch 00039: LearningRateScheduler reducing learning rate to 0.0002.\n",
            "\n",
            "Epoch 00040: LearningRateScheduler reducing learning rate to 0.0002.\n",
            "Test Error Rate:  33.59 % | Iteration No:  0\n"
          ],
          "name": "stdout"
        },
        {
          "output_type": "display_data",
          "data": {
            "text/html": [
              "\n",
              "                Logging results to <a href=\"https://wandb.com\" target=\"_blank\">Weights & Biases</a> <a href=\"https://docs.wandb.com/integrations/jupyter.html\" target=\"_blank\">(Documentation)</a>.<br/>\n",
              "                Project page: <a href=\"https://app.wandb.ai/authors/loss-landscape\" target=\"_blank\">https://app.wandb.ai/authors/loss-landscape</a><br/>\n",
              "                Run page: <a href=\"https://app.wandb.ai/authors/loss-landscape/runs/eahvqkqy\" target=\"_blank\">https://app.wandb.ai/authors/loss-landscape/runs/eahvqkqy</a><br/>\n",
              "            "
            ],
            "text/plain": [
              "<IPython.core.display.HTML object>"
            ]
          },
          "metadata": {
            "tags": []
          }
        },
        {
          "output_type": "stream",
          "text": [
            "\n",
            "Epoch 00001: LearningRateScheduler reducing learning rate to 0.0016.\n",
            "\n",
            "Epoch 00002: LearningRateScheduler reducing learning rate to 0.0016.\n",
            "\n",
            "Epoch 00003: LearningRateScheduler reducing learning rate to 0.0016.\n",
            "\n",
            "Epoch 00004: LearningRateScheduler reducing learning rate to 0.0016.\n",
            "\n",
            "Epoch 00005: LearningRateScheduler reducing learning rate to 0.0016.\n",
            "\n",
            "Epoch 00006: LearningRateScheduler reducing learning rate to 0.0016.\n",
            "\n",
            "Epoch 00007: LearningRateScheduler reducing learning rate to 0.0016.\n",
            "\n",
            "Epoch 00008: LearningRateScheduler reducing learning rate to 0.0016.\n",
            "\n",
            "Epoch 00009: LearningRateScheduler reducing learning rate to 0.0016.\n",
            "\n",
            "Epoch 00010: LearningRateScheduler reducing learning rate to 0.0008.\n",
            "\n",
            "Epoch 00011: LearningRateScheduler reducing learning rate to 0.0008.\n",
            "\n",
            "Epoch 00012: LearningRateScheduler reducing learning rate to 0.0008.\n",
            "\n",
            "Epoch 00013: LearningRateScheduler reducing learning rate to 0.0008.\n",
            "\n",
            "Epoch 00014: LearningRateScheduler reducing learning rate to 0.0008.\n",
            "\n",
            "Epoch 00015: LearningRateScheduler reducing learning rate to 0.0008.\n",
            "\n",
            "Epoch 00016: LearningRateScheduler reducing learning rate to 0.0008.\n",
            "\n",
            "Epoch 00017: LearningRateScheduler reducing learning rate to 0.0008.\n",
            "\n",
            "Epoch 00018: LearningRateScheduler reducing learning rate to 0.0008.\n",
            "\n",
            "Epoch 00019: LearningRateScheduler reducing learning rate to 0.0008.\n",
            "\n",
            "Epoch 00020: LearningRateScheduler reducing learning rate to 0.0004.\n",
            "\n",
            "Epoch 00021: LearningRateScheduler reducing learning rate to 0.0004.\n",
            "\n",
            "Epoch 00022: LearningRateScheduler reducing learning rate to 0.0004.\n",
            "\n",
            "Epoch 00023: LearningRateScheduler reducing learning rate to 0.0004.\n",
            "\n",
            "Epoch 00024: LearningRateScheduler reducing learning rate to 0.0004.\n",
            "\n",
            "Epoch 00025: LearningRateScheduler reducing learning rate to 0.0004.\n",
            "\n",
            "Epoch 00026: LearningRateScheduler reducing learning rate to 0.0004.\n",
            "\n",
            "Epoch 00027: LearningRateScheduler reducing learning rate to 0.0004.\n",
            "\n",
            "Epoch 00028: LearningRateScheduler reducing learning rate to 0.0004.\n",
            "\n",
            "Epoch 00029: LearningRateScheduler reducing learning rate to 0.0004.\n",
            "\n",
            "Epoch 00030: LearningRateScheduler reducing learning rate to 0.0002.\n",
            "\n",
            "Epoch 00031: LearningRateScheduler reducing learning rate to 0.0002.\n",
            "\n",
            "Epoch 00032: LearningRateScheduler reducing learning rate to 0.0002.\n",
            "\n",
            "Epoch 00033: LearningRateScheduler reducing learning rate to 0.0002.\n",
            "\n",
            "Epoch 00034: LearningRateScheduler reducing learning rate to 0.0002.\n",
            "\n",
            "Epoch 00035: LearningRateScheduler reducing learning rate to 0.0002.\n",
            "\n",
            "Epoch 00036: LearningRateScheduler reducing learning rate to 0.0002.\n",
            "\n",
            "Epoch 00037: LearningRateScheduler reducing learning rate to 0.0002.\n",
            "\n",
            "Epoch 00038: LearningRateScheduler reducing learning rate to 0.0002.\n",
            "\n",
            "Epoch 00039: LearningRateScheduler reducing learning rate to 0.0002.\n",
            "\n",
            "Epoch 00040: LearningRateScheduler reducing learning rate to 0.0002.\n",
            "Test Error Rate:  36.67 % | Iteration No:  1\n"
          ],
          "name": "stdout"
        },
        {
          "output_type": "display_data",
          "data": {
            "text/html": [
              "\n",
              "                Logging results to <a href=\"https://wandb.com\" target=\"_blank\">Weights & Biases</a> <a href=\"https://docs.wandb.com/integrations/jupyter.html\" target=\"_blank\">(Documentation)</a>.<br/>\n",
              "                Project page: <a href=\"https://app.wandb.ai/authors/loss-landscape\" target=\"_blank\">https://app.wandb.ai/authors/loss-landscape</a><br/>\n",
              "                Run page: <a href=\"https://app.wandb.ai/authors/loss-landscape/runs/df6znwqe\" target=\"_blank\">https://app.wandb.ai/authors/loss-landscape/runs/df6znwqe</a><br/>\n",
              "            "
            ],
            "text/plain": [
              "<IPython.core.display.HTML object>"
            ]
          },
          "metadata": {
            "tags": []
          }
        },
        {
          "output_type": "stream",
          "text": [
            "\n",
            "Epoch 00001: LearningRateScheduler reducing learning rate to 0.0016.\n",
            "\n",
            "Epoch 00002: LearningRateScheduler reducing learning rate to 0.0016.\n",
            "\n",
            "Epoch 00003: LearningRateScheduler reducing learning rate to 0.0016.\n",
            "\n",
            "Epoch 00004: LearningRateScheduler reducing learning rate to 0.0016.\n",
            "\n",
            "Epoch 00005: LearningRateScheduler reducing learning rate to 0.0016.\n",
            "\n",
            "Epoch 00006: LearningRateScheduler reducing learning rate to 0.0016.\n",
            "\n",
            "Epoch 00007: LearningRateScheduler reducing learning rate to 0.0016.\n",
            "\n",
            "Epoch 00008: LearningRateScheduler reducing learning rate to 0.0016.\n",
            "\n",
            "Epoch 00009: LearningRateScheduler reducing learning rate to 0.0016.\n",
            "\n",
            "Epoch 00010: LearningRateScheduler reducing learning rate to 0.0008.\n",
            "\n",
            "Epoch 00011: LearningRateScheduler reducing learning rate to 0.0008.\n",
            "\n",
            "Epoch 00012: LearningRateScheduler reducing learning rate to 0.0008.\n",
            "\n",
            "Epoch 00013: LearningRateScheduler reducing learning rate to 0.0008.\n",
            "\n",
            "Epoch 00014: LearningRateScheduler reducing learning rate to 0.0008.\n",
            "\n",
            "Epoch 00015: LearningRateScheduler reducing learning rate to 0.0008.\n",
            "\n",
            "Epoch 00016: LearningRateScheduler reducing learning rate to 0.0008.\n",
            "\n",
            "Epoch 00017: LearningRateScheduler reducing learning rate to 0.0008.\n",
            "\n",
            "Epoch 00018: LearningRateScheduler reducing learning rate to 0.0008.\n",
            "\n",
            "Epoch 00019: LearningRateScheduler reducing learning rate to 0.0008.\n",
            "\n",
            "Epoch 00020: LearningRateScheduler reducing learning rate to 0.0004.\n",
            "\n",
            "Epoch 00021: LearningRateScheduler reducing learning rate to 0.0004.\n",
            "\n",
            "Epoch 00022: LearningRateScheduler reducing learning rate to 0.0004.\n",
            "\n",
            "Epoch 00023: LearningRateScheduler reducing learning rate to 0.0004.\n",
            "\n",
            "Epoch 00024: LearningRateScheduler reducing learning rate to 0.0004.\n",
            "\n",
            "Epoch 00025: LearningRateScheduler reducing learning rate to 0.0004.\n",
            "\n",
            "Epoch 00026: LearningRateScheduler reducing learning rate to 0.0004.\n",
            "\n",
            "Epoch 00027: LearningRateScheduler reducing learning rate to 0.0004.\n",
            "\n",
            "Epoch 00028: LearningRateScheduler reducing learning rate to 0.0004.\n",
            "\n",
            "Epoch 00029: LearningRateScheduler reducing learning rate to 0.0004.\n",
            "\n",
            "Epoch 00030: LearningRateScheduler reducing learning rate to 0.0002.\n",
            "\n",
            "Epoch 00031: LearningRateScheduler reducing learning rate to 0.0002.\n",
            "\n",
            "Epoch 00032: LearningRateScheduler reducing learning rate to 0.0002.\n",
            "\n",
            "Epoch 00033: LearningRateScheduler reducing learning rate to 0.0002.\n",
            "\n",
            "Epoch 00034: LearningRateScheduler reducing learning rate to 0.0002.\n",
            "\n",
            "Epoch 00035: LearningRateScheduler reducing learning rate to 0.0002.\n",
            "\n",
            "Epoch 00036: LearningRateScheduler reducing learning rate to 0.0002.\n",
            "\n",
            "Epoch 00037: LearningRateScheduler reducing learning rate to 0.0002.\n",
            "\n",
            "Epoch 00038: LearningRateScheduler reducing learning rate to 0.0002.\n",
            "\n",
            "Epoch 00039: LearningRateScheduler reducing learning rate to 0.0002.\n",
            "\n",
            "Epoch 00040: LearningRateScheduler reducing learning rate to 0.0002.\n",
            "Test Error Rate:  37.34 % | Iteration No:  2\n"
          ],
          "name": "stdout"
        },
        {
          "output_type": "display_data",
          "data": {
            "text/html": [
              "\n",
              "                Logging results to <a href=\"https://wandb.com\" target=\"_blank\">Weights & Biases</a> <a href=\"https://docs.wandb.com/integrations/jupyter.html\" target=\"_blank\">(Documentation)</a>.<br/>\n",
              "                Project page: <a href=\"https://app.wandb.ai/authors/loss-landscape\" target=\"_blank\">https://app.wandb.ai/authors/loss-landscape</a><br/>\n",
              "                Run page: <a href=\"https://app.wandb.ai/authors/loss-landscape/runs/3fp54ny8\" target=\"_blank\">https://app.wandb.ai/authors/loss-landscape/runs/3fp54ny8</a><br/>\n",
              "            "
            ],
            "text/plain": [
              "<IPython.core.display.HTML object>"
            ]
          },
          "metadata": {
            "tags": []
          }
        },
        {
          "output_type": "stream",
          "text": [
            "\n",
            "Epoch 00001: LearningRateScheduler reducing learning rate to 0.0016.\n",
            "\n",
            "Epoch 00002: LearningRateScheduler reducing learning rate to 0.0016.\n",
            "\n",
            "Epoch 00003: LearningRateScheduler reducing learning rate to 0.0016.\n",
            "\n",
            "Epoch 00004: LearningRateScheduler reducing learning rate to 0.0016.\n",
            "\n",
            "Epoch 00005: LearningRateScheduler reducing learning rate to 0.0016.\n",
            "\n",
            "Epoch 00006: LearningRateScheduler reducing learning rate to 0.0016.\n",
            "\n",
            "Epoch 00007: LearningRateScheduler reducing learning rate to 0.0016.\n",
            "\n",
            "Epoch 00008: LearningRateScheduler reducing learning rate to 0.0016.\n",
            "\n",
            "Epoch 00009: LearningRateScheduler reducing learning rate to 0.0016.\n",
            "\n",
            "Epoch 00010: LearningRateScheduler reducing learning rate to 0.0008.\n",
            "\n",
            "Epoch 00011: LearningRateScheduler reducing learning rate to 0.0008.\n",
            "\n",
            "Epoch 00012: LearningRateScheduler reducing learning rate to 0.0008.\n",
            "\n",
            "Epoch 00013: LearningRateScheduler reducing learning rate to 0.0008.\n",
            "\n",
            "Epoch 00014: LearningRateScheduler reducing learning rate to 0.0008.\n",
            "\n",
            "Epoch 00015: LearningRateScheduler reducing learning rate to 0.0008.\n",
            "\n",
            "Epoch 00016: LearningRateScheduler reducing learning rate to 0.0008.\n",
            "\n",
            "Epoch 00017: LearningRateScheduler reducing learning rate to 0.0008.\n",
            "\n",
            "Epoch 00018: LearningRateScheduler reducing learning rate to 0.0008.\n",
            "\n",
            "Epoch 00019: LearningRateScheduler reducing learning rate to 0.0008.\n",
            "\n",
            "Epoch 00020: LearningRateScheduler reducing learning rate to 0.0004.\n",
            "\n",
            "Epoch 00021: LearningRateScheduler reducing learning rate to 0.0004.\n",
            "\n",
            "Epoch 00022: LearningRateScheduler reducing learning rate to 0.0004.\n",
            "\n",
            "Epoch 00023: LearningRateScheduler reducing learning rate to 0.0004.\n",
            "\n",
            "Epoch 00024: LearningRateScheduler reducing learning rate to 0.0004.\n",
            "\n",
            "Epoch 00025: LearningRateScheduler reducing learning rate to 0.0004.\n",
            "\n",
            "Epoch 00026: LearningRateScheduler reducing learning rate to 0.0004.\n",
            "\n",
            "Epoch 00027: LearningRateScheduler reducing learning rate to 0.0004.\n",
            "\n",
            "Epoch 00028: LearningRateScheduler reducing learning rate to 0.0004.\n",
            "\n",
            "Epoch 00029: LearningRateScheduler reducing learning rate to 0.0004.\n",
            "\n",
            "Epoch 00030: LearningRateScheduler reducing learning rate to 0.0002.\n",
            "\n",
            "Epoch 00031: LearningRateScheduler reducing learning rate to 0.0002.\n",
            "\n",
            "Epoch 00032: LearningRateScheduler reducing learning rate to 0.0002.\n",
            "\n",
            "Epoch 00033: LearningRateScheduler reducing learning rate to 0.0002.\n",
            "\n",
            "Epoch 00034: LearningRateScheduler reducing learning rate to 0.0002.\n",
            "\n",
            "Epoch 00035: LearningRateScheduler reducing learning rate to 0.0002.\n",
            "\n",
            "Epoch 00036: LearningRateScheduler reducing learning rate to 0.0002.\n",
            "\n",
            "Epoch 00037: LearningRateScheduler reducing learning rate to 0.0002.\n",
            "\n",
            "Epoch 00038: LearningRateScheduler reducing learning rate to 0.0002.\n",
            "\n",
            "Epoch 00039: LearningRateScheduler reducing learning rate to 0.0002.\n",
            "\n",
            "Epoch 00040: LearningRateScheduler reducing learning rate to 0.0002.\n",
            "Test Error Rate:  34.0 % | Iteration No:  3\n"
          ],
          "name": "stdout"
        },
        {
          "output_type": "display_data",
          "data": {
            "text/html": [
              "\n",
              "                Logging results to <a href=\"https://wandb.com\" target=\"_blank\">Weights & Biases</a> <a href=\"https://docs.wandb.com/integrations/jupyter.html\" target=\"_blank\">(Documentation)</a>.<br/>\n",
              "                Project page: <a href=\"https://app.wandb.ai/authors/loss-landscape\" target=\"_blank\">https://app.wandb.ai/authors/loss-landscape</a><br/>\n",
              "                Run page: <a href=\"https://app.wandb.ai/authors/loss-landscape/runs/9yn4uoyz\" target=\"_blank\">https://app.wandb.ai/authors/loss-landscape/runs/9yn4uoyz</a><br/>\n",
              "            "
            ],
            "text/plain": [
              "<IPython.core.display.HTML object>"
            ]
          },
          "metadata": {
            "tags": []
          }
        },
        {
          "output_type": "stream",
          "text": [
            "\n",
            "Epoch 00001: LearningRateScheduler reducing learning rate to 0.0016.\n",
            "\n",
            "Epoch 00002: LearningRateScheduler reducing learning rate to 0.0016.\n",
            "\n",
            "Epoch 00003: LearningRateScheduler reducing learning rate to 0.0016.\n",
            "\n",
            "Epoch 00004: LearningRateScheduler reducing learning rate to 0.0016.\n",
            "\n",
            "Epoch 00005: LearningRateScheduler reducing learning rate to 0.0016.\n",
            "\n",
            "Epoch 00006: LearningRateScheduler reducing learning rate to 0.0016.\n",
            "\n",
            "Epoch 00007: LearningRateScheduler reducing learning rate to 0.0016.\n",
            "\n",
            "Epoch 00008: LearningRateScheduler reducing learning rate to 0.0016.\n",
            "\n",
            "Epoch 00009: LearningRateScheduler reducing learning rate to 0.0016.\n",
            "\n",
            "Epoch 00010: LearningRateScheduler reducing learning rate to 0.0008.\n",
            "\n",
            "Epoch 00011: LearningRateScheduler reducing learning rate to 0.0008.\n",
            "\n",
            "Epoch 00012: LearningRateScheduler reducing learning rate to 0.0008.\n",
            "\n",
            "Epoch 00013: LearningRateScheduler reducing learning rate to 0.0008.\n",
            "\n",
            "Epoch 00014: LearningRateScheduler reducing learning rate to 0.0008.\n",
            "\n",
            "Epoch 00015: LearningRateScheduler reducing learning rate to 0.0008.\n",
            "\n",
            "Epoch 00016: LearningRateScheduler reducing learning rate to 0.0008.\n",
            "\n",
            "Epoch 00017: LearningRateScheduler reducing learning rate to 0.0008.\n",
            "\n",
            "Epoch 00018: LearningRateScheduler reducing learning rate to 0.0008.\n",
            "\n",
            "Epoch 00019: LearningRateScheduler reducing learning rate to 0.0008.\n",
            "\n",
            "Epoch 00020: LearningRateScheduler reducing learning rate to 0.0004.\n",
            "\n",
            "Epoch 00021: LearningRateScheduler reducing learning rate to 0.0004.\n",
            "\n",
            "Epoch 00022: LearningRateScheduler reducing learning rate to 0.0004.\n",
            "\n",
            "Epoch 00023: LearningRateScheduler reducing learning rate to 0.0004.\n",
            "\n",
            "Epoch 00024: LearningRateScheduler reducing learning rate to 0.0004.\n",
            "\n",
            "Epoch 00025: LearningRateScheduler reducing learning rate to 0.0004.\n",
            "\n",
            "Epoch 00026: LearningRateScheduler reducing learning rate to 0.0004.\n",
            "\n",
            "Epoch 00027: LearningRateScheduler reducing learning rate to 0.0004.\n",
            "\n",
            "Epoch 00028: LearningRateScheduler reducing learning rate to 0.0004.\n",
            "\n",
            "Epoch 00029: LearningRateScheduler reducing learning rate to 0.0004.\n",
            "\n",
            "Epoch 00030: LearningRateScheduler reducing learning rate to 0.0002.\n",
            "\n",
            "Epoch 00031: LearningRateScheduler reducing learning rate to 0.0002.\n",
            "\n",
            "Epoch 00032: LearningRateScheduler reducing learning rate to 0.0002.\n",
            "\n",
            "Epoch 00033: LearningRateScheduler reducing learning rate to 0.0002.\n",
            "\n",
            "Epoch 00034: LearningRateScheduler reducing learning rate to 0.0002.\n",
            "\n",
            "Epoch 00035: LearningRateScheduler reducing learning rate to 0.0002.\n",
            "\n",
            "Epoch 00036: LearningRateScheduler reducing learning rate to 0.0002.\n",
            "\n",
            "Epoch 00037: LearningRateScheduler reducing learning rate to 0.0002.\n",
            "\n",
            "Epoch 00038: LearningRateScheduler reducing learning rate to 0.0002.\n",
            "\n",
            "Epoch 00039: LearningRateScheduler reducing learning rate to 0.0002.\n",
            "\n",
            "Epoch 00040: LearningRateScheduler reducing learning rate to 0.0002.\n",
            "Test Error Rate:  35.94 % | Iteration No:  4\n"
          ],
          "name": "stdout"
        },
        {
          "output_type": "display_data",
          "data": {
            "text/html": [
              "\n",
              "                Logging results to <a href=\"https://wandb.com\" target=\"_blank\">Weights & Biases</a> <a href=\"https://docs.wandb.com/integrations/jupyter.html\" target=\"_blank\">(Documentation)</a>.<br/>\n",
              "                Project page: <a href=\"https://app.wandb.ai/authors/loss-landscape\" target=\"_blank\">https://app.wandb.ai/authors/loss-landscape</a><br/>\n",
              "                Run page: <a href=\"https://app.wandb.ai/authors/loss-landscape/runs/1tb53acf\" target=\"_blank\">https://app.wandb.ai/authors/loss-landscape/runs/1tb53acf</a><br/>\n",
              "            "
            ],
            "text/plain": [
              "<IPython.core.display.HTML object>"
            ]
          },
          "metadata": {
            "tags": []
          }
        },
        {
          "output_type": "stream",
          "text": [
            "\n",
            "Epoch 00001: LearningRateScheduler reducing learning rate to 0.0016.\n",
            "\n",
            "Epoch 00002: LearningRateScheduler reducing learning rate to 0.0016.\n",
            "\n",
            "Epoch 00003: LearningRateScheduler reducing learning rate to 0.0016.\n",
            "\n",
            "Epoch 00004: LearningRateScheduler reducing learning rate to 0.0016.\n",
            "\n",
            "Epoch 00005: LearningRateScheduler reducing learning rate to 0.0016.\n",
            "\n",
            "Epoch 00006: LearningRateScheduler reducing learning rate to 0.0016.\n",
            "\n",
            "Epoch 00007: LearningRateScheduler reducing learning rate to 0.0016.\n",
            "\n",
            "Epoch 00008: LearningRateScheduler reducing learning rate to 0.0016.\n",
            "\n",
            "Epoch 00009: LearningRateScheduler reducing learning rate to 0.0016.\n",
            "\n",
            "Epoch 00010: LearningRateScheduler reducing learning rate to 0.0008.\n",
            "\n",
            "Epoch 00011: LearningRateScheduler reducing learning rate to 0.0008.\n",
            "\n",
            "Epoch 00012: LearningRateScheduler reducing learning rate to 0.0008.\n",
            "\n",
            "Epoch 00013: LearningRateScheduler reducing learning rate to 0.0008.\n",
            "\n",
            "Epoch 00014: LearningRateScheduler reducing learning rate to 0.0008.\n",
            "\n",
            "Epoch 00015: LearningRateScheduler reducing learning rate to 0.0008.\n",
            "\n",
            "Epoch 00016: LearningRateScheduler reducing learning rate to 0.0008.\n",
            "\n",
            "Epoch 00017: LearningRateScheduler reducing learning rate to 0.0008.\n",
            "\n",
            "Epoch 00018: LearningRateScheduler reducing learning rate to 0.0008.\n",
            "\n",
            "Epoch 00019: LearningRateScheduler reducing learning rate to 0.0008.\n",
            "\n",
            "Epoch 00020: LearningRateScheduler reducing learning rate to 0.0004.\n",
            "\n",
            "Epoch 00021: LearningRateScheduler reducing learning rate to 0.0004.\n",
            "\n",
            "Epoch 00022: LearningRateScheduler reducing learning rate to 0.0004.\n",
            "\n",
            "Epoch 00023: LearningRateScheduler reducing learning rate to 0.0004.\n",
            "\n",
            "Epoch 00024: LearningRateScheduler reducing learning rate to 0.0004.\n",
            "\n",
            "Epoch 00025: LearningRateScheduler reducing learning rate to 0.0004.\n",
            "\n",
            "Epoch 00026: LearningRateScheduler reducing learning rate to 0.0004.\n",
            "\n",
            "Epoch 00027: LearningRateScheduler reducing learning rate to 0.0004.\n",
            "\n",
            "Epoch 00028: LearningRateScheduler reducing learning rate to 0.0004.\n",
            "\n",
            "Epoch 00029: LearningRateScheduler reducing learning rate to 0.0004.\n",
            "\n",
            "Epoch 00030: LearningRateScheduler reducing learning rate to 0.0002.\n",
            "\n",
            "Epoch 00031: LearningRateScheduler reducing learning rate to 0.0002.\n",
            "\n",
            "Epoch 00032: LearningRateScheduler reducing learning rate to 0.0002.\n",
            "\n",
            "Epoch 00033: LearningRateScheduler reducing learning rate to 0.0002.\n",
            "\n",
            "Epoch 00034: LearningRateScheduler reducing learning rate to 0.0002.\n",
            "\n",
            "Epoch 00035: LearningRateScheduler reducing learning rate to 0.0002.\n",
            "\n",
            "Epoch 00036: LearningRateScheduler reducing learning rate to 0.0002.\n",
            "\n",
            "Epoch 00037: LearningRateScheduler reducing learning rate to 0.0002.\n",
            "\n",
            "Epoch 00038: LearningRateScheduler reducing learning rate to 0.0002.\n",
            "\n",
            "Epoch 00039: LearningRateScheduler reducing learning rate to 0.0002.\n",
            "\n",
            "Epoch 00040: LearningRateScheduler reducing learning rate to 0.0002.\n",
            "Test Error Rate:  34.65 % | Iteration No:  5\n"
          ],
          "name": "stdout"
        },
        {
          "output_type": "display_data",
          "data": {
            "text/html": [
              "\n",
              "                Logging results to <a href=\"https://wandb.com\" target=\"_blank\">Weights & Biases</a> <a href=\"https://docs.wandb.com/integrations/jupyter.html\" target=\"_blank\">(Documentation)</a>.<br/>\n",
              "                Project page: <a href=\"https://app.wandb.ai/authors/loss-landscape\" target=\"_blank\">https://app.wandb.ai/authors/loss-landscape</a><br/>\n",
              "                Run page: <a href=\"https://app.wandb.ai/authors/loss-landscape/runs/bapl089o\" target=\"_blank\">https://app.wandb.ai/authors/loss-landscape/runs/bapl089o</a><br/>\n",
              "            "
            ],
            "text/plain": [
              "<IPython.core.display.HTML object>"
            ]
          },
          "metadata": {
            "tags": []
          }
        },
        {
          "output_type": "stream",
          "text": [
            "\n",
            "Epoch 00001: LearningRateScheduler reducing learning rate to 0.0016.\n",
            "\n",
            "Epoch 00002: LearningRateScheduler reducing learning rate to 0.0016.\n",
            "\n",
            "Epoch 00003: LearningRateScheduler reducing learning rate to 0.0016.\n",
            "\n",
            "Epoch 00004: LearningRateScheduler reducing learning rate to 0.0016.\n",
            "\n",
            "Epoch 00005: LearningRateScheduler reducing learning rate to 0.0016.\n",
            "\n",
            "Epoch 00006: LearningRateScheduler reducing learning rate to 0.0016.\n",
            "\n",
            "Epoch 00007: LearningRateScheduler reducing learning rate to 0.0016.\n",
            "\n",
            "Epoch 00008: LearningRateScheduler reducing learning rate to 0.0016.\n",
            "\n",
            "Epoch 00009: LearningRateScheduler reducing learning rate to 0.0016.\n",
            "\n",
            "Epoch 00010: LearningRateScheduler reducing learning rate to 0.0008.\n",
            "\n",
            "Epoch 00011: LearningRateScheduler reducing learning rate to 0.0008.\n",
            "\n",
            "Epoch 00012: LearningRateScheduler reducing learning rate to 0.0008.\n",
            "\n",
            "Epoch 00013: LearningRateScheduler reducing learning rate to 0.0008.\n",
            "\n",
            "Epoch 00014: LearningRateScheduler reducing learning rate to 0.0008.\n",
            "\n",
            "Epoch 00015: LearningRateScheduler reducing learning rate to 0.0008.\n",
            "\n",
            "Epoch 00016: LearningRateScheduler reducing learning rate to 0.0008.\n",
            "\n",
            "Epoch 00017: LearningRateScheduler reducing learning rate to 0.0008.\n",
            "\n",
            "Epoch 00018: LearningRateScheduler reducing learning rate to 0.0008.\n",
            "\n",
            "Epoch 00019: LearningRateScheduler reducing learning rate to 0.0008.\n",
            "\n",
            "Epoch 00020: LearningRateScheduler reducing learning rate to 0.0004.\n",
            "\n",
            "Epoch 00021: LearningRateScheduler reducing learning rate to 0.0004.\n",
            "\n",
            "Epoch 00022: LearningRateScheduler reducing learning rate to 0.0004.\n",
            "\n",
            "Epoch 00023: LearningRateScheduler reducing learning rate to 0.0004.\n",
            "\n",
            "Epoch 00024: LearningRateScheduler reducing learning rate to 0.0004.\n",
            "\n",
            "Epoch 00025: LearningRateScheduler reducing learning rate to 0.0004.\n",
            "\n",
            "Epoch 00026: LearningRateScheduler reducing learning rate to 0.0004.\n",
            "\n",
            "Epoch 00027: LearningRateScheduler reducing learning rate to 0.0004.\n",
            "\n",
            "Epoch 00028: LearningRateScheduler reducing learning rate to 0.0004.\n",
            "\n",
            "Epoch 00029: LearningRateScheduler reducing learning rate to 0.0004.\n",
            "\n",
            "Epoch 00030: LearningRateScheduler reducing learning rate to 0.0002.\n",
            "\n",
            "Epoch 00031: LearningRateScheduler reducing learning rate to 0.0002.\n",
            "\n",
            "Epoch 00032: LearningRateScheduler reducing learning rate to 0.0002.\n",
            "\n",
            "Epoch 00033: LearningRateScheduler reducing learning rate to 0.0002.\n",
            "\n",
            "Epoch 00034: LearningRateScheduler reducing learning rate to 0.0002.\n",
            "\n",
            "Epoch 00035: LearningRateScheduler reducing learning rate to 0.0002.\n",
            "\n",
            "Epoch 00036: LearningRateScheduler reducing learning rate to 0.0002.\n",
            "\n",
            "Epoch 00037: LearningRateScheduler reducing learning rate to 0.0002.\n",
            "\n",
            "Epoch 00038: LearningRateScheduler reducing learning rate to 0.0002.\n",
            "\n",
            "Epoch 00039: LearningRateScheduler reducing learning rate to 0.0002.\n",
            "\n",
            "Epoch 00040: LearningRateScheduler reducing learning rate to 0.0002.\n",
            "Test Error Rate:  36.43 % | Iteration No:  6\n"
          ],
          "name": "stdout"
        },
        {
          "output_type": "display_data",
          "data": {
            "text/html": [
              "\n",
              "                Logging results to <a href=\"https://wandb.com\" target=\"_blank\">Weights & Biases</a> <a href=\"https://docs.wandb.com/integrations/jupyter.html\" target=\"_blank\">(Documentation)</a>.<br/>\n",
              "                Project page: <a href=\"https://app.wandb.ai/authors/loss-landscape\" target=\"_blank\">https://app.wandb.ai/authors/loss-landscape</a><br/>\n",
              "                Run page: <a href=\"https://app.wandb.ai/authors/loss-landscape/runs/2kteslvr\" target=\"_blank\">https://app.wandb.ai/authors/loss-landscape/runs/2kteslvr</a><br/>\n",
              "            "
            ],
            "text/plain": [
              "<IPython.core.display.HTML object>"
            ]
          },
          "metadata": {
            "tags": []
          }
        },
        {
          "output_type": "stream",
          "text": [
            "\n",
            "Epoch 00001: LearningRateScheduler reducing learning rate to 0.0016.\n",
            "\n",
            "Epoch 00002: LearningRateScheduler reducing learning rate to 0.0016.\n",
            "\n",
            "Epoch 00003: LearningRateScheduler reducing learning rate to 0.0016.\n",
            "\n",
            "Epoch 00004: LearningRateScheduler reducing learning rate to 0.0016.\n",
            "\n",
            "Epoch 00005: LearningRateScheduler reducing learning rate to 0.0016.\n",
            "\n",
            "Epoch 00006: LearningRateScheduler reducing learning rate to 0.0016.\n",
            "\n",
            "Epoch 00007: LearningRateScheduler reducing learning rate to 0.0016.\n",
            "\n",
            "Epoch 00008: LearningRateScheduler reducing learning rate to 0.0016.\n",
            "\n",
            "Epoch 00009: LearningRateScheduler reducing learning rate to 0.0016.\n",
            "\n",
            "Epoch 00010: LearningRateScheduler reducing learning rate to 0.0008.\n",
            "\n",
            "Epoch 00011: LearningRateScheduler reducing learning rate to 0.0008.\n",
            "\n",
            "Epoch 00012: LearningRateScheduler reducing learning rate to 0.0008.\n",
            "\n",
            "Epoch 00013: LearningRateScheduler reducing learning rate to 0.0008.\n",
            "\n",
            "Epoch 00014: LearningRateScheduler reducing learning rate to 0.0008.\n",
            "\n",
            "Epoch 00015: LearningRateScheduler reducing learning rate to 0.0008.\n",
            "\n",
            "Epoch 00016: LearningRateScheduler reducing learning rate to 0.0008.\n",
            "\n",
            "Epoch 00017: LearningRateScheduler reducing learning rate to 0.0008.\n",
            "\n",
            "Epoch 00018: LearningRateScheduler reducing learning rate to 0.0008.\n",
            "\n",
            "Epoch 00019: LearningRateScheduler reducing learning rate to 0.0008.\n",
            "\n",
            "Epoch 00020: LearningRateScheduler reducing learning rate to 0.0004.\n",
            "\n",
            "Epoch 00021: LearningRateScheduler reducing learning rate to 0.0004.\n",
            "\n",
            "Epoch 00022: LearningRateScheduler reducing learning rate to 0.0004.\n",
            "\n",
            "Epoch 00023: LearningRateScheduler reducing learning rate to 0.0004.\n",
            "\n",
            "Epoch 00024: LearningRateScheduler reducing learning rate to 0.0004.\n",
            "\n",
            "Epoch 00025: LearningRateScheduler reducing learning rate to 0.0004.\n",
            "\n",
            "Epoch 00026: LearningRateScheduler reducing learning rate to 0.0004.\n",
            "\n",
            "Epoch 00027: LearningRateScheduler reducing learning rate to 0.0004.\n",
            "\n",
            "Epoch 00028: LearningRateScheduler reducing learning rate to 0.0004.\n",
            "\n",
            "Epoch 00029: LearningRateScheduler reducing learning rate to 0.0004.\n",
            "\n",
            "Epoch 00030: LearningRateScheduler reducing learning rate to 0.0002.\n",
            "\n",
            "Epoch 00031: LearningRateScheduler reducing learning rate to 0.0002.\n",
            "\n",
            "Epoch 00032: LearningRateScheduler reducing learning rate to 0.0002.\n",
            "\n",
            "Epoch 00033: LearningRateScheduler reducing learning rate to 0.0002.\n",
            "\n",
            "Epoch 00034: LearningRateScheduler reducing learning rate to 0.0002.\n",
            "\n",
            "Epoch 00035: LearningRateScheduler reducing learning rate to 0.0002.\n",
            "\n",
            "Epoch 00036: LearningRateScheduler reducing learning rate to 0.0002.\n",
            "\n",
            "Epoch 00037: LearningRateScheduler reducing learning rate to 0.0002.\n",
            "\n",
            "Epoch 00038: LearningRateScheduler reducing learning rate to 0.0002.\n",
            "\n",
            "Epoch 00039: LearningRateScheduler reducing learning rate to 0.0002.\n",
            "\n",
            "Epoch 00040: LearningRateScheduler reducing learning rate to 0.0002.\n",
            "Test Error Rate:  34.82 % | Iteration No:  7\n"
          ],
          "name": "stdout"
        },
        {
          "output_type": "display_data",
          "data": {
            "text/html": [
              "\n",
              "                Logging results to <a href=\"https://wandb.com\" target=\"_blank\">Weights & Biases</a> <a href=\"https://docs.wandb.com/integrations/jupyter.html\" target=\"_blank\">(Documentation)</a>.<br/>\n",
              "                Project page: <a href=\"https://app.wandb.ai/authors/loss-landscape\" target=\"_blank\">https://app.wandb.ai/authors/loss-landscape</a><br/>\n",
              "                Run page: <a href=\"https://app.wandb.ai/authors/loss-landscape/runs/1kpqdfrk\" target=\"_blank\">https://app.wandb.ai/authors/loss-landscape/runs/1kpqdfrk</a><br/>\n",
              "            "
            ],
            "text/plain": [
              "<IPython.core.display.HTML object>"
            ]
          },
          "metadata": {
            "tags": []
          }
        },
        {
          "output_type": "stream",
          "text": [
            "\n",
            "Epoch 00001: LearningRateScheduler reducing learning rate to 0.0016.\n",
            "\n",
            "Epoch 00002: LearningRateScheduler reducing learning rate to 0.0016.\n",
            "\n",
            "Epoch 00003: LearningRateScheduler reducing learning rate to 0.0016.\n",
            "\n",
            "Epoch 00004: LearningRateScheduler reducing learning rate to 0.0016.\n",
            "\n",
            "Epoch 00005: LearningRateScheduler reducing learning rate to 0.0016.\n",
            "\n",
            "Epoch 00006: LearningRateScheduler reducing learning rate to 0.0016.\n",
            "\n",
            "Epoch 00007: LearningRateScheduler reducing learning rate to 0.0016.\n",
            "\n",
            "Epoch 00008: LearningRateScheduler reducing learning rate to 0.0016.\n",
            "\n",
            "Epoch 00009: LearningRateScheduler reducing learning rate to 0.0016.\n",
            "\n",
            "Epoch 00010: LearningRateScheduler reducing learning rate to 0.0008.\n",
            "\n",
            "Epoch 00011: LearningRateScheduler reducing learning rate to 0.0008.\n",
            "\n",
            "Epoch 00012: LearningRateScheduler reducing learning rate to 0.0008.\n",
            "\n",
            "Epoch 00013: LearningRateScheduler reducing learning rate to 0.0008.\n",
            "\n",
            "Epoch 00014: LearningRateScheduler reducing learning rate to 0.0008.\n",
            "\n",
            "Epoch 00015: LearningRateScheduler reducing learning rate to 0.0008.\n",
            "\n",
            "Epoch 00016: LearningRateScheduler reducing learning rate to 0.0008.\n",
            "\n",
            "Epoch 00017: LearningRateScheduler reducing learning rate to 0.0008.\n",
            "\n",
            "Epoch 00018: LearningRateScheduler reducing learning rate to 0.0008.\n",
            "\n",
            "Epoch 00019: LearningRateScheduler reducing learning rate to 0.0008.\n",
            "\n",
            "Epoch 00020: LearningRateScheduler reducing learning rate to 0.0004.\n",
            "\n",
            "Epoch 00021: LearningRateScheduler reducing learning rate to 0.0004.\n",
            "\n",
            "Epoch 00022: LearningRateScheduler reducing learning rate to 0.0004.\n",
            "\n",
            "Epoch 00023: LearningRateScheduler reducing learning rate to 0.0004.\n",
            "\n",
            "Epoch 00024: LearningRateScheduler reducing learning rate to 0.0004.\n",
            "\n",
            "Epoch 00025: LearningRateScheduler reducing learning rate to 0.0004.\n",
            "\n",
            "Epoch 00026: LearningRateScheduler reducing learning rate to 0.0004.\n",
            "\n",
            "Epoch 00027: LearningRateScheduler reducing learning rate to 0.0004.\n",
            "\n",
            "Epoch 00028: LearningRateScheduler reducing learning rate to 0.0004.\n",
            "\n",
            "Epoch 00029: LearningRateScheduler reducing learning rate to 0.0004.\n",
            "\n",
            "Epoch 00030: LearningRateScheduler reducing learning rate to 0.0002.\n",
            "\n",
            "Epoch 00031: LearningRateScheduler reducing learning rate to 0.0002.\n",
            "\n",
            "Epoch 00032: LearningRateScheduler reducing learning rate to 0.0002.\n",
            "\n",
            "Epoch 00033: LearningRateScheduler reducing learning rate to 0.0002.\n",
            "\n",
            "Epoch 00034: LearningRateScheduler reducing learning rate to 0.0002.\n",
            "\n",
            "Epoch 00035: LearningRateScheduler reducing learning rate to 0.0002.\n",
            "\n",
            "Epoch 00036: LearningRateScheduler reducing learning rate to 0.0002.\n",
            "\n",
            "Epoch 00037: LearningRateScheduler reducing learning rate to 0.0002.\n",
            "\n",
            "Epoch 00038: LearningRateScheduler reducing learning rate to 0.0002.\n",
            "\n",
            "Epoch 00039: LearningRateScheduler reducing learning rate to 0.0002.\n",
            "\n",
            "Epoch 00040: LearningRateScheduler reducing learning rate to 0.0002.\n",
            "Test Error Rate:  36.32 % | Iteration No:  8\n"
          ],
          "name": "stdout"
        },
        {
          "output_type": "display_data",
          "data": {
            "text/html": [
              "\n",
              "                Logging results to <a href=\"https://wandb.com\" target=\"_blank\">Weights & Biases</a> <a href=\"https://docs.wandb.com/integrations/jupyter.html\" target=\"_blank\">(Documentation)</a>.<br/>\n",
              "                Project page: <a href=\"https://app.wandb.ai/authors/loss-landscape\" target=\"_blank\">https://app.wandb.ai/authors/loss-landscape</a><br/>\n",
              "                Run page: <a href=\"https://app.wandb.ai/authors/loss-landscape/runs/gadysv2t\" target=\"_blank\">https://app.wandb.ai/authors/loss-landscape/runs/gadysv2t</a><br/>\n",
              "            "
            ],
            "text/plain": [
              "<IPython.core.display.HTML object>"
            ]
          },
          "metadata": {
            "tags": []
          }
        },
        {
          "output_type": "stream",
          "text": [
            "\n",
            "Epoch 00001: LearningRateScheduler reducing learning rate to 0.0016.\n",
            "\n",
            "Epoch 00002: LearningRateScheduler reducing learning rate to 0.0016.\n",
            "\n",
            "Epoch 00003: LearningRateScheduler reducing learning rate to 0.0016.\n",
            "\n",
            "Epoch 00004: LearningRateScheduler reducing learning rate to 0.0016.\n",
            "\n",
            "Epoch 00005: LearningRateScheduler reducing learning rate to 0.0016.\n",
            "\n",
            "Epoch 00006: LearningRateScheduler reducing learning rate to 0.0016.\n",
            "\n",
            "Epoch 00007: LearningRateScheduler reducing learning rate to 0.0016.\n",
            "\n",
            "Epoch 00008: LearningRateScheduler reducing learning rate to 0.0016.\n",
            "\n",
            "Epoch 00009: LearningRateScheduler reducing learning rate to 0.0016.\n",
            "\n",
            "Epoch 00010: LearningRateScheduler reducing learning rate to 0.0008.\n",
            "\n",
            "Epoch 00011: LearningRateScheduler reducing learning rate to 0.0008.\n",
            "\n",
            "Epoch 00012: LearningRateScheduler reducing learning rate to 0.0008.\n",
            "\n",
            "Epoch 00013: LearningRateScheduler reducing learning rate to 0.0008.\n",
            "\n",
            "Epoch 00014: LearningRateScheduler reducing learning rate to 0.0008.\n",
            "\n",
            "Epoch 00015: LearningRateScheduler reducing learning rate to 0.0008.\n",
            "\n",
            "Epoch 00016: LearningRateScheduler reducing learning rate to 0.0008.\n",
            "\n",
            "Epoch 00017: LearningRateScheduler reducing learning rate to 0.0008.\n",
            "\n",
            "Epoch 00018: LearningRateScheduler reducing learning rate to 0.0008.\n",
            "\n",
            "Epoch 00019: LearningRateScheduler reducing learning rate to 0.0008.\n",
            "\n",
            "Epoch 00020: LearningRateScheduler reducing learning rate to 0.0004.\n",
            "\n",
            "Epoch 00021: LearningRateScheduler reducing learning rate to 0.0004.\n",
            "\n",
            "Epoch 00022: LearningRateScheduler reducing learning rate to 0.0004.\n",
            "\n",
            "Epoch 00023: LearningRateScheduler reducing learning rate to 0.0004.\n",
            "\n",
            "Epoch 00024: LearningRateScheduler reducing learning rate to 0.0004.\n",
            "\n",
            "Epoch 00025: LearningRateScheduler reducing learning rate to 0.0004.\n",
            "\n",
            "Epoch 00026: LearningRateScheduler reducing learning rate to 0.0004.\n",
            "\n",
            "Epoch 00027: LearningRateScheduler reducing learning rate to 0.0004.\n",
            "\n",
            "Epoch 00028: LearningRateScheduler reducing learning rate to 0.0004.\n",
            "\n",
            "Epoch 00029: LearningRateScheduler reducing learning rate to 0.0004.\n",
            "\n",
            "Epoch 00030: LearningRateScheduler reducing learning rate to 0.0002.\n",
            "\n",
            "Epoch 00031: LearningRateScheduler reducing learning rate to 0.0002.\n",
            "\n",
            "Epoch 00032: LearningRateScheduler reducing learning rate to 0.0002.\n",
            "\n",
            "Epoch 00033: LearningRateScheduler reducing learning rate to 0.0002.\n",
            "\n",
            "Epoch 00034: LearningRateScheduler reducing learning rate to 0.0002.\n",
            "\n",
            "Epoch 00035: LearningRateScheduler reducing learning rate to 0.0002.\n",
            "\n",
            "Epoch 00036: LearningRateScheduler reducing learning rate to 0.0002.\n",
            "\n",
            "Epoch 00037: LearningRateScheduler reducing learning rate to 0.0002.\n",
            "\n",
            "Epoch 00038: LearningRateScheduler reducing learning rate to 0.0002.\n",
            "\n",
            "Epoch 00039: LearningRateScheduler reducing learning rate to 0.0002.\n",
            "\n",
            "Epoch 00040: LearningRateScheduler reducing learning rate to 0.0002.\n",
            "Test Error Rate:  36.63 % | Iteration No:  9\n"
          ],
          "name": "stdout"
        }
      ]
    },
    {
      "cell_type": "code",
      "metadata": {
        "id": "uDqU6gMtsMdc",
        "colab_type": "code",
        "colab": {}
      },
      "source": [
        ""
      ],
      "execution_count": null,
      "outputs": []
    }
  ]
}