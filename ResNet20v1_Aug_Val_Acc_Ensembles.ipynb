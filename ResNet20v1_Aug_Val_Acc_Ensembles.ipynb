{
  "nbformat": 4,
  "nbformat_minor": 0,
  "metadata": {
    "colab": {
      "name": "scratchpad",
      "provenance": [],
      "include_colab_link": true
    },
    "kernelspec": {
      "display_name": "Python 3",
      "name": "python3"
    },
    "widgets": {
      "application/vnd.jupyter.widget-state+json": {
        "db1a2a9758bf4aae805903b1668a9a27": {
          "model_module": "@jupyter-widgets/controls",
          "model_name": "HBoxModel",
          "state": {
            "_view_name": "HBoxView",
            "_dom_classes": [],
            "_model_name": "HBoxModel",
            "_view_module": "@jupyter-widgets/controls",
            "_model_module_version": "1.5.0",
            "_view_count": null,
            "_view_module_version": "1.5.0",
            "box_style": "",
            "layout": "IPY_MODEL_e706ffa04d0548878e7db71383834ea1",
            "_model_module": "@jupyter-widgets/controls",
            "children": [
              "IPY_MODEL_de1b024471ca48649022c9556c78c37d",
              "IPY_MODEL_a8f81f13085844f781f5ee9c4f8ab2ba"
            ]
          }
        },
        "e706ffa04d0548878e7db71383834ea1": {
          "model_module": "@jupyter-widgets/base",
          "model_name": "LayoutModel",
          "state": {
            "_view_name": "LayoutView",
            "grid_template_rows": null,
            "right": null,
            "justify_content": null,
            "_view_module": "@jupyter-widgets/base",
            "overflow": null,
            "_model_module_version": "1.2.0",
            "_view_count": null,
            "flex_flow": null,
            "width": null,
            "min_width": null,
            "border": null,
            "align_items": null,
            "bottom": null,
            "_model_module": "@jupyter-widgets/base",
            "top": null,
            "grid_column": null,
            "overflow_y": null,
            "overflow_x": null,
            "grid_auto_flow": null,
            "grid_area": null,
            "grid_template_columns": null,
            "flex": null,
            "_model_name": "LayoutModel",
            "justify_items": null,
            "grid_row": null,
            "max_height": null,
            "align_content": null,
            "visibility": null,
            "align_self": null,
            "height": null,
            "min_height": null,
            "padding": null,
            "grid_auto_rows": null,
            "grid_gap": null,
            "max_width": null,
            "order": null,
            "_view_module_version": "1.2.0",
            "grid_template_areas": null,
            "object_position": null,
            "object_fit": null,
            "grid_auto_columns": null,
            "margin": null,
            "display": null,
            "left": null
          }
        },
        "de1b024471ca48649022c9556c78c37d": {
          "model_module": "@jupyter-widgets/controls",
          "model_name": "FloatProgressModel",
          "state": {
            "_view_name": "ProgressView",
            "style": "IPY_MODEL_c5e85f746e034117a46594e9c16e7b6f",
            "_dom_classes": [],
            "description": "100%",
            "_model_name": "FloatProgressModel",
            "bar_style": "success",
            "max": 5,
            "_view_module": "@jupyter-widgets/controls",
            "_model_module_version": "1.5.0",
            "value": 5,
            "_view_count": null,
            "_view_module_version": "1.5.0",
            "orientation": "horizontal",
            "min": 0,
            "description_tooltip": null,
            "_model_module": "@jupyter-widgets/controls",
            "layout": "IPY_MODEL_0c7cd94c1788435ea3ab70fd602eab46"
          }
        },
        "a8f81f13085844f781f5ee9c4f8ab2ba": {
          "model_module": "@jupyter-widgets/controls",
          "model_name": "HTMLModel",
          "state": {
            "_view_name": "HTMLView",
            "style": "IPY_MODEL_91cd531de9b444cfb614425496a56fe2",
            "_dom_classes": [],
            "description": "",
            "_model_name": "HTMLModel",
            "placeholder": "​",
            "_view_module": "@jupyter-widgets/controls",
            "_model_module_version": "1.5.0",
            "value": " 5/5 [01:39&lt;00:00, 19.93s/it]",
            "_view_count": null,
            "_view_module_version": "1.5.0",
            "description_tooltip": null,
            "_model_module": "@jupyter-widgets/controls",
            "layout": "IPY_MODEL_5b6c64527d4e4d1fb780f4ac83f00ba4"
          }
        },
        "c5e85f746e034117a46594e9c16e7b6f": {
          "model_module": "@jupyter-widgets/controls",
          "model_name": "ProgressStyleModel",
          "state": {
            "_view_name": "StyleView",
            "_model_name": "ProgressStyleModel",
            "description_width": "initial",
            "_view_module": "@jupyter-widgets/base",
            "_model_module_version": "1.5.0",
            "_view_count": null,
            "_view_module_version": "1.2.0",
            "bar_color": null,
            "_model_module": "@jupyter-widgets/controls"
          }
        },
        "0c7cd94c1788435ea3ab70fd602eab46": {
          "model_module": "@jupyter-widgets/base",
          "model_name": "LayoutModel",
          "state": {
            "_view_name": "LayoutView",
            "grid_template_rows": null,
            "right": null,
            "justify_content": null,
            "_view_module": "@jupyter-widgets/base",
            "overflow": null,
            "_model_module_version": "1.2.0",
            "_view_count": null,
            "flex_flow": null,
            "width": null,
            "min_width": null,
            "border": null,
            "align_items": null,
            "bottom": null,
            "_model_module": "@jupyter-widgets/base",
            "top": null,
            "grid_column": null,
            "overflow_y": null,
            "overflow_x": null,
            "grid_auto_flow": null,
            "grid_area": null,
            "grid_template_columns": null,
            "flex": null,
            "_model_name": "LayoutModel",
            "justify_items": null,
            "grid_row": null,
            "max_height": null,
            "align_content": null,
            "visibility": null,
            "align_self": null,
            "height": null,
            "min_height": null,
            "padding": null,
            "grid_auto_rows": null,
            "grid_gap": null,
            "max_width": null,
            "order": null,
            "_view_module_version": "1.2.0",
            "grid_template_areas": null,
            "object_position": null,
            "object_fit": null,
            "grid_auto_columns": null,
            "margin": null,
            "display": null,
            "left": null
          }
        },
        "91cd531de9b444cfb614425496a56fe2": {
          "model_module": "@jupyter-widgets/controls",
          "model_name": "DescriptionStyleModel",
          "state": {
            "_view_name": "StyleView",
            "_model_name": "DescriptionStyleModel",
            "description_width": "",
            "_view_module": "@jupyter-widgets/base",
            "_model_module_version": "1.5.0",
            "_view_count": null,
            "_view_module_version": "1.2.0",
            "_model_module": "@jupyter-widgets/controls"
          }
        },
        "5b6c64527d4e4d1fb780f4ac83f00ba4": {
          "model_module": "@jupyter-widgets/base",
          "model_name": "LayoutModel",
          "state": {
            "_view_name": "LayoutView",
            "grid_template_rows": null,
            "right": null,
            "justify_content": null,
            "_view_module": "@jupyter-widgets/base",
            "overflow": null,
            "_model_module_version": "1.2.0",
            "_view_count": null,
            "flex_flow": null,
            "width": null,
            "min_width": null,
            "border": null,
            "align_items": null,
            "bottom": null,
            "_model_module": "@jupyter-widgets/base",
            "top": null,
            "grid_column": null,
            "overflow_y": null,
            "overflow_x": null,
            "grid_auto_flow": null,
            "grid_area": null,
            "grid_template_columns": null,
            "flex": null,
            "_model_name": "LayoutModel",
            "justify_items": null,
            "grid_row": null,
            "max_height": null,
            "align_content": null,
            "visibility": null,
            "align_self": null,
            "height": null,
            "min_height": null,
            "padding": null,
            "grid_auto_rows": null,
            "grid_gap": null,
            "max_width": null,
            "order": null,
            "_view_module_version": "1.2.0",
            "grid_template_areas": null,
            "object_position": null,
            "object_fit": null,
            "grid_auto_columns": null,
            "margin": null,
            "display": null,
            "left": null
          }
        }
      }
    },
    "accelerator": "GPU"
  },
  "cells": [
    {
      "cell_type": "markdown",
      "metadata": {
        "id": "view-in-github",
        "colab_type": "text"
      },
      "source": [
        "<a href=\"https://colab.research.google.com/github/ayulockin/LossLandscape/blob/master/ResNet20v1_Aug_Val_Acc_Ensembles.ipynb\" target=\"_parent\"><img src=\"https://colab.research.google.com/assets/colab-badge.svg\" alt=\"Open In Colab\"/></a>"
      ]
    },
    {
      "cell_type": "code",
      "metadata": {
        "colab_type": "code",
        "id": "lIYdn1woOS1n",
        "colab": {
          "base_uri": "https://localhost:8080/",
          "height": 34
        },
        "outputId": "c83ffbe3-3c41-4f2c-b246-70e48cfbbb87"
      },
      "source": [
        "# TensorFlow Imports\n",
        "import tensorflow as tf\n",
        "print(tf.__version__)"
      ],
      "execution_count": 1,
      "outputs": [
        {
          "output_type": "stream",
          "text": [
            "2.2.0\n"
          ],
          "name": "stdout"
        }
      ]
    },
    {
      "cell_type": "code",
      "metadata": {
        "id": "nEaGQd6QcSxl",
        "colab_type": "code",
        "colab": {
          "base_uri": "https://localhost:8080/",
          "height": 71
        },
        "outputId": "d7962842-c8d2-4219-9bc4-b46d3e993c1a"
      },
      "source": [
        "# Other imports\n",
        "import os\n",
        "os.environ[\"TF_DETERMINISTIC_OPS\"] = \"1\"\n",
        "\n",
        "import numpy as np\n",
        "import pandas as pd\n",
        "import matplotlib.pyplot as plt\n",
        "\n",
        "%matplotlib inline\n",
        "\n",
        "import seaborn as sns\n",
        "sns.set()\n",
        "\n",
        "from tqdm.notebook import tqdm_notebook\n",
        "from sklearn.metrics import accuracy_score"
      ],
      "execution_count": 2,
      "outputs": [
        {
          "output_type": "stream",
          "text": [
            "/usr/local/lib/python3.6/dist-packages/statsmodels/tools/_testing.py:19: FutureWarning: pandas.util.testing is deprecated. Use the functions in the public API at pandas.testing instead.\n",
            "  import pandas.util.testing as tm\n"
          ],
          "name": "stderr"
        }
      ]
    },
    {
      "cell_type": "code",
      "metadata": {
        "id": "m_3AzX6VcfMw",
        "colab_type": "code",
        "colab": {}
      },
      "source": [
        "from google.colab import auth as google_auth\n",
        "google_auth.authenticate_user()"
      ],
      "execution_count": 3,
      "outputs": []
    },
    {
      "cell_type": "code",
      "metadata": {
        "id": "2yVUurBrch1w",
        "colab_type": "code",
        "colab": {
          "base_uri": "https://localhost:8080/",
          "height": 221
        },
        "outputId": "275ff329-092b-40af-a0d2-4aeb2d6cf5a3"
      },
      "source": [
        "!mkdir ResNet20v1_CIFAR10_Aug\n",
        "!gsutil -m cp -r gs://losslandscape/ResNet20v1_CIFAR10_Aug_Diff_Inits/resnet20v1-aug-diff-inits-*.h5 ResNet20v1_CIFAR10_Aug/"
      ],
      "execution_count": 4,
      "outputs": [
        {
          "output_type": "stream",
          "text": [
            "Copying gs://losslandscape/ResNet20v1_CIFAR10_Aug_Diff_Inits/resnet20v1-aug-diff-inits-5.h5...\n",
            "/ [0/10 files][    0.0 B/ 69.4 MiB]   0% Done                                   \rCopying gs://losslandscape/ResNet20v1_CIFAR10_Aug_Diff_Inits/resnet20v1-aug-diff-inits-0.h5...\n",
            "/ [0/10 files][    0.0 B/ 69.4 MiB]   0% Done                                   \rCopying gs://losslandscape/ResNet20v1_CIFAR10_Aug_Diff_Inits/resnet20v1-aug-diff-inits-6.h5...\n",
            "/ [0/10 files][    0.0 B/ 69.4 MiB]   0% Done                                   \rCopying gs://losslandscape/ResNet20v1_CIFAR10_Aug_Diff_Inits/resnet20v1-aug-diff-inits-2.h5...\n",
            "/ [0/10 files][    0.0 B/ 69.4 MiB]   0% Done                                   \rCopying gs://losslandscape/ResNet20v1_CIFAR10_Aug_Diff_Inits/resnet20v1-aug-diff-inits-3.h5...\n",
            "/ [0/10 files][    0.0 B/ 69.4 MiB]   0% Done                                   \rCopying gs://losslandscape/ResNet20v1_CIFAR10_Aug_Diff_Inits/resnet20v1-aug-diff-inits-1.h5...\n",
            "/ [0/10 files][    0.0 B/ 69.4 MiB]   0% Done                                   \rCopying gs://losslandscape/ResNet20v1_CIFAR10_Aug_Diff_Inits/resnet20v1-aug-diff-inits-7.h5...\n",
            "/ [0/10 files][    0.0 B/ 69.4 MiB]   0% Done                                   \rCopying gs://losslandscape/ResNet20v1_CIFAR10_Aug_Diff_Inits/resnet20v1-aug-diff-inits-4.h5...\n",
            "/ [0/10 files][    0.0 B/ 69.4 MiB]   0% Done                                   \rCopying gs://losslandscape/ResNet20v1_CIFAR10_Aug_Diff_Inits/resnet20v1-aug-diff-inits-8.h5...\n",
            "Copying gs://losslandscape/ResNet20v1_CIFAR10_Aug_Diff_Inits/resnet20v1-aug-diff-inits-9.h5...\n",
            "- [10/10 files][ 69.4 MiB/ 69.4 MiB] 100% Done                                  \n",
            "Operation completed over 10 objects/69.4 MiB.                                    \n"
          ],
          "name": "stdout"
        }
      ]
    },
    {
      "cell_type": "code",
      "metadata": {
        "id": "Tv_D7tBHc3Ma",
        "colab_type": "code",
        "colab": {
          "base_uri": "https://localhost:8080/",
          "height": 34
        },
        "outputId": "de34c476-ec6c-43a4-cac0-3fa9855c4618"
      },
      "source": [
        "model_ckpts = os.listdir('ResNet20v1_CIFAR10_Aug')\n",
        "print(len(model_ckpts))"
      ],
      "execution_count": 3,
      "outputs": [
        {
          "output_type": "stream",
          "text": [
            "10\n"
          ],
          "name": "stdout"
        }
      ]
    },
    {
      "cell_type": "code",
      "metadata": {
        "id": "-yXTshDJdHaM",
        "colab_type": "code",
        "colab": {}
      },
      "source": [
        "# Load the training set of CIFAR10\n",
        "(_, _), (x_test, y_test) = tf.keras.datasets.cifar10.load_data()\n",
        "\n",
        "def normalize(image, label):\n",
        "    return tf.image.convert_image_dtype(image, tf.float32), label\n",
        "\n",
        "\n",
        "test_ds = tf.data.Dataset.from_tensor_slices((x_test, y_test))\n",
        "test_ds = (\n",
        "    test_ds\n",
        "    .map(normalize, num_parallel_calls=tf.data.experimental.AUTOTUNE)\n",
        "    .batch(32)\n",
        "    .prefetch(tf.data.experimental.AUTOTUNE)\n",
        ") "
      ],
      "execution_count": 4,
      "outputs": []
    },
    {
      "cell_type": "code",
      "metadata": {
        "id": "5vg2BG1GunW5",
        "colab_type": "code",
        "colab": {
          "base_uri": "https://localhost:8080/",
          "height": 51
        },
        "outputId": "ebb61be5-f891-4094-9233-20a5d0a1eb08"
      },
      "source": [
        "# Choose a single model randomly and load it up\n",
        "model_ckpt = model_ckpts[int(np.random.choice(len(model_ckpts), 1))]\n",
        "single_model = model = tf.keras.models.load_model('/content/ResNet20v1_CIFAR10_Aug/' + model_ckpt)\n",
        "\n",
        "# Evaluate it\n",
        "accuracy_single_model = single_model.evaluate(test_ds)[1] * 100\n",
        "accuracy_single_model"
      ],
      "execution_count": 5,
      "outputs": [
        {
          "output_type": "stream",
          "text": [
            "313/313 [==============================] - 4s 13ms/step - loss: 0.4588 - accuracy: 0.8659\n"
          ],
          "name": "stdout"
        },
        {
          "output_type": "execute_result",
          "data": {
            "text/plain": [
              "86.58999800682068"
            ]
          },
          "metadata": {
            "tags": []
          },
          "execution_count": 5
        }
      ]
    },
    {
      "cell_type": "code",
      "metadata": {
        "id": "7BQkOrMzxkuZ",
        "colab_type": "code",
        "colab": {
          "base_uri": "https://localhost:8080/",
          "height": 34
        },
        "outputId": "87323b3d-3a3c-489e-92c2-7991e87160d6"
      },
      "source": [
        "# Create list to models with different solutions\n",
        "members = [tf.keras.models.load_model('/content/ResNet20v1_CIFAR10_Aug/' + model_ckpts[i]) \n",
        "                            for i in range(len(model_ckpts))]\n",
        "len(members)"
      ],
      "execution_count": 6,
      "outputs": [
        {
          "output_type": "execute_result",
          "data": {
            "text/plain": [
              "10"
            ]
          },
          "metadata": {
            "tags": []
          },
          "execution_count": 6
        }
      ]
    },
    {
      "cell_type": "markdown",
      "metadata": {
        "id": "8TzKOLvMzwCO",
        "colab_type": "text"
      },
      "source": [
        "Reference: https://machinelearningmastery.com/model-averaging-ensemble-for-deep-learning-neural-networks/"
      ]
    },
    {
      "cell_type": "code",
      "metadata": {
        "id": "coGl-4WMxBGH",
        "colab_type": "code",
        "colab": {}
      },
      "source": [
        "# make an ensemble prediction for multi-class classification\n",
        "def ensemble_predictions(members):\n",
        "\t# make predictions\n",
        "\tyhats = [model.predict(x_test/255.) for model in members]\n",
        "\tyhats = np.array(yhats)\n",
        "\t# sum across ensemble members\n",
        "\tsummed = np.sum(yhats, axis=0)\n",
        "\t# argmax across classes\n",
        "\tresult = np.argmax(summed, axis=1)\n",
        "\treturn result\n",
        " \n",
        "# evaluate a specific number of members in an ensemble\n",
        "def evaluate_n_members(members):\n",
        "    accuracy_list = []\n",
        "    for n_members in tqdm_notebook(range(2, 12, 2)):\n",
        "        # select a subset of members\n",
        "        subset = members[:n_members]\n",
        "        print(len(subset))\n",
        "        # make prediction\n",
        "        yhat = ensemble_predictions(subset)\n",
        "        # calculate accuracy\n",
        "        accuracy_list.append(100*accuracy_score(y_test, yhat))\n",
        "\n",
        "    return accuracy_list"
      ],
      "execution_count": 7,
      "outputs": []
    },
    {
      "cell_type": "code",
      "metadata": {
        "id": "nP3sUVfO1F72",
        "colab_type": "code",
        "colab": {
          "base_uri": "https://localhost:8080/",
          "height": 151,
          "referenced_widgets": [
            "db1a2a9758bf4aae805903b1668a9a27",
            "e706ffa04d0548878e7db71383834ea1",
            "de1b024471ca48649022c9556c78c37d",
            "a8f81f13085844f781f5ee9c4f8ab2ba",
            "c5e85f746e034117a46594e9c16e7b6f",
            "0c7cd94c1788435ea3ab70fd602eab46",
            "91cd531de9b444cfb614425496a56fe2",
            "5b6c64527d4e4d1fb780f4ac83f00ba4"
          ]
        },
        "outputId": "12542e2c-58e9-4347-cc13-da260d53de77"
      },
      "source": [
        "# Run the ensembles\n",
        "accuracy_list = evaluate_n_members(members)"
      ],
      "execution_count": 8,
      "outputs": [
        {
          "output_type": "display_data",
          "data": {
            "application/vnd.jupyter.widget-view+json": {
              "model_id": "db1a2a9758bf4aae805903b1668a9a27",
              "version_minor": 0,
              "version_major": 2
            },
            "text/plain": [
              "HBox(children=(FloatProgress(value=0.0, max=5.0), HTML(value='')))"
            ]
          },
          "metadata": {
            "tags": []
          }
        },
        {
          "output_type": "stream",
          "text": [
            "2\n",
            "4\n",
            "6\n",
            "8\n",
            "10\n",
            "\n"
          ],
          "name": "stdout"
        }
      ]
    },
    {
      "cell_type": "code",
      "metadata": {
        "id": "R7men6lu1ZoW",
        "colab_type": "code",
        "colab": {}
      },
      "source": [
        "accuracy_list.insert(0, accuracy_single_model)\n",
        "rng = [i for i in range(0, 12, 2)]"
      ],
      "execution_count": 9,
      "outputs": []
    },
    {
      "cell_type": "code",
      "metadata": {
        "id": "c4ZxtCgUKoxt",
        "colab_type": "code",
        "colab": {
          "base_uri": "https://localhost:8080/",
          "height": 518
        },
        "outputId": "ff3d94e5-e170-4082-9e7c-3ba51ed7714f"
      },
      "source": [
        "plt.figure(figsize=(9,8))\n",
        "plt.plot(rng, accuracy_list)\n",
        "plt.title(\"Test accuracy as a function of ensemble size\")\n",
        "plt.xlabel(\"Ensemble size\")\n",
        "plt.ylabel(\"Test accuracy\")\n",
        "plt.savefig('ensemble_func.png')"
      ],
      "execution_count": 12,
      "outputs": [
        {
          "output_type": "display_data",
          "data": {
            "image/png": "[encoded data removed]",
            "text/plain": [
              "<Figure size 648x576 with 1 Axes>"
            ]
          },
          "metadata": {
            "tags": []
          }
        }
      ]
    },
    {
      "cell_type": "code",
      "metadata": {
        "id": "q9ZPlTWrJhFP",
        "colab_type": "code",
        "colab": {}
      },
      "source": [
        "%%capture \n",
        "pip install wandb "
      ],
      "execution_count": 12,
      "outputs": []
    },
    {
      "cell_type": "code",
      "metadata": {
        "id": "xMr7ib4wJrrk",
        "colab_type": "code",
        "colab": {
          "base_uri": "https://localhost:8080/",
          "height": 34
        },
        "outputId": "05d89629-2018-48af-d248-1e51a7b03360"
      },
      "source": [
        "import wandb\n",
        "wandb.login()"
      ],
      "execution_count": 13,
      "outputs": [
        {
          "output_type": "execute_result",
          "data": {
            "text/plain": [
              "True"
            ]
          },
          "metadata": {
            "tags": []
          },
          "execution_count": 13
        }
      ]
    },
    {
      "cell_type": "code",
      "metadata": {
        "id": "dR8PEWnkJYB6",
        "colab_type": "code",
        "colab": {
          "base_uri": "https://localhost:8080/",
          "height": 68
        },
        "outputId": "28096ece-0f7b-42a8-84fd-7afb5068e39f"
      },
      "source": [
        "wandb.init(project='loss-landscape', id='resnet20v1_aug_ensemble_func-1')\n",
        "wandb.log({'ensemble_function': wandb.Image('ensemble_func.png')})"
      ],
      "execution_count": 14,
      "outputs": [
        {
          "output_type": "display_data",
          "data": {
            "text/html": [
              "\n",
              "                Logging results to <a href=\"https://wandb.com\" target=\"_blank\">Weights & Biases</a> <a href=\"https://docs.wandb.com/integrations/jupyter.html\" target=\"_blank\">(Documentation)</a>.<br/>\n",
              "                Project page: <a href=\"https://app.wandb.ai/authors/loss-landscape\" target=\"_blank\">https://app.wandb.ai/authors/loss-landscape</a><br/>\n",
              "                Run page: <a href=\"https://app.wandb.ai/authors/loss-landscape/runs/resnet20v1_aug_ensemble_func-1\" target=\"_blank\">https://app.wandb.ai/authors/loss-landscape/runs/resnet20v1_aug_ensemble_func-1</a><br/>\n",
              "            "
            ],
            "text/plain": [
              "<IPython.core.display.HTML object>"
            ]
          },
          "metadata": {
            "tags": []
          }
        }
      ]
    }
  ]
}